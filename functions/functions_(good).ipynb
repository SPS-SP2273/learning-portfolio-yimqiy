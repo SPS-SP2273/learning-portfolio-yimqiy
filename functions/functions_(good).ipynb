{
 "cells": [
  {
   "cell_type": "markdown",
   "id": "123456",
   "metadata": {},
   "source": [
    "<div style=\"text-align:left;font-size:2em\"><span style=\"font-weight:bolder;font-size:1.25em\">SP2273 | Learning Portfolio</span><br><br><span style=\"font-weight:bold;color:darkred\">Functions (Good)</span></div>"
   ]
  },
  {
   "cell_type": "markdown",
   "id": "81099753",
   "metadata": {},
   "source": [
    "## 1 Check, balances and contingencies"
   ]
  },
  {
   "cell_type": "markdown",
   "id": "fca6fbe2",
   "metadata": {},
   "source": [
    "### 1.1 assert"
   ]
  },
  {
   "cell_type": "code",
   "execution_count": 16,
   "id": "4bbe7b68",
   "metadata": {},
   "outputs": [
    {
     "ename": "AssertionError",
     "evalue": "x menjadi negatif!",
     "output_type": "error",
     "traceback": [
      "\u001b[1;31m---------------------------------------------------------------------------\u001b[0m",
      "\u001b[1;31mAssertionError\u001b[0m                            Traceback (most recent call last)",
      "Cell \u001b[1;32mIn[16], line 4\u001b[0m\n\u001b[0;32m      2\u001b[0m \u001b[38;5;28;01massert\u001b[39;00m x \u001b[38;5;241m>\u001b[39m\u001b[38;5;241m=\u001b[39m \u001b[38;5;241m0\u001b[39m, \u001b[38;5;124m\"\u001b[39m\u001b[38;5;124mx menjadi positif!\u001b[39m\u001b[38;5;124m\"\u001b[39m\n\u001b[0;32m      3\u001b[0m x \u001b[38;5;241m=\u001b[39m \u001b[38;5;241m-\u001b[39m\u001b[38;5;241m1\u001b[39m\n\u001b[1;32m----> 4\u001b[0m \u001b[38;5;28;01massert\u001b[39;00m x \u001b[38;5;241m>\u001b[39m\u001b[38;5;241m=\u001b[39m \u001b[38;5;241m0\u001b[39m, \u001b[38;5;124m\"\u001b[39m\u001b[38;5;124mx menjadi negatif!\u001b[39m\u001b[38;5;124m\"\u001b[39m\n",
      "\u001b[1;31mAssertionError\u001b[0m: x menjadi negatif!"
     ]
    }
   ],
   "source": [
    "x = 10\n",
    "assert x >= 0, \"x menjadi positif!\"\n",
    "x = -1\n",
    "assert x >= 0, \"x menjadi negatif!\"\n"
   ]
  },
  {
   "cell_type": "markdown",
   "id": "a05f1fda",
   "metadata": {},
   "source": [
    "### 1.2 try-except"
   ]
  },
  {
   "cell_type": "code",
   "execution_count": 6,
   "id": "574afb58",
   "metadata": {},
   "outputs": [
    {
     "name": "stdout",
     "output_type": "stream",
     "text": [
      "Give me a number and I will calculate its square.wavefunction\n",
      "Oh oh! I cannot square wavefunction!\n"
     ]
    }
   ],
   "source": [
    "try:\n",
    "    number=input(\"Give me a number and I will calculate its square.\")\n",
    "    square=int(number)**2\n",
    "    print(f'The square of {number} is {square}!')\n",
    "except:\n",
    "    print(f\"Oh oh! I cannot square {number}!\")"
   ]
  },
  {
   "cell_type": "markdown",
   "id": "c713fe10",
   "metadata": {},
   "source": [
    "## 2 Some loose ends"
   ]
  },
  {
   "cell_type": "markdown",
   "id": "6c14841c",
   "metadata": {},
   "source": [
    "### 2.1 Positional, keyword and default arguments"
   ]
  },
  {
   "cell_type": "code",
   "execution_count": 9,
   "id": "88009fec",
   "metadata": {},
   "outputs": [
    {
     "data": {
      "text/plain": [
       "121"
      ]
     },
     "execution_count": 9,
     "metadata": {},
     "output_type": "execute_result"
    }
   ],
   "source": [
    "def funny_add(a, b, c=1):\n",
    "    return a + 10*b + 100*c\n",
    "funny_add(1, 2)           # Two positional, 1 default"
   ]
  },
  {
   "cell_type": "code",
   "execution_count": 10,
   "id": "f616426e",
   "metadata": {},
   "outputs": [
    {
     "data": {
      "text/plain": [
       "321"
      ]
     },
     "execution_count": 10,
     "metadata": {},
     "output_type": "execute_result"
    }
   ],
   "source": [
    "funny_add(1, 2, 3)        # Three positional"
   ]
  },
  {
   "cell_type": "code",
   "execution_count": 11,
   "id": "edd3aa3f",
   "metadata": {},
   "outputs": [
    {
     "data": {
      "text/plain": [
       "121"
      ]
     },
     "execution_count": 11,
     "metadata": {},
     "output_type": "execute_result"
    }
   ],
   "source": [
    "funny_add(a=1, b=2)       # Two keyword, 1 default"
   ]
  },
  {
   "cell_type": "code",
   "execution_count": 12,
   "id": "cb04eebb",
   "metadata": {},
   "outputs": [
    {
     "data": {
      "text/plain": [
       "312"
      ]
     },
     "execution_count": 12,
     "metadata": {},
     "output_type": "execute_result"
    }
   ],
   "source": [
    "funny_add(c=3, b=1, a=2)  # Three keyword"
   ]
  },
  {
   "cell_type": "code",
   "execution_count": 13,
   "id": "08a98fe1",
   "metadata": {},
   "outputs": [
    {
     "data": {
      "text/plain": [
       "321"
      ]
     },
     "execution_count": 13,
     "metadata": {},
     "output_type": "execute_result"
    }
   ],
   "source": [
    "funny_add(1, c=3, b=2)    # One positional, 2 keyword"
   ]
  },
  {
   "cell_type": "code",
   "execution_count": 14,
   "id": "9a5b68ac",
   "metadata": {},
   "outputs": [
    {
     "data": {
      "text/plain": [
       "121"
      ]
     },
     "execution_count": 14,
     "metadata": {},
     "output_type": "execute_result"
    }
   ],
   "source": [
    "funny_add(1, b=2)         # One positional, 1 keyword, 1 default"
   ]
  },
  {
   "cell_type": "code",
   "execution_count": null,
   "id": "478ab63b",
   "metadata": {},
   "outputs": [],
   "source": [
    "funny_add(a=2, 1)         # Won't work. Keywords cannot be followed by positional"
   ]
  },
  {
   "cell_type": "markdown",
   "id": "71c5e25b",
   "metadata": {},
   "source": [
    "### 2.2 Docstrings"
   ]
  },
  {
   "cell_type": "code",
   "execution_count": 20,
   "id": "652a591f",
   "metadata": {},
   "outputs": [
    {
     "name": "stdout",
     "output_type": "stream",
     "text": [
      "Help on function funny_add in module __main__:\n",
      "\n",
      "funny_add(a, b, c=1)\n",
      "    وظيفة اختبار لتوضيح كيفية عمل الوسيطات\n",
      "    الموضعية والكلمات الرئيسية والافتراضية\n",
      "\n"
     ]
    }
   ],
   "source": [
    "def funny_add(a, b, c=1):\n",
    "    '''\n",
    "    وظيفة اختبار لتوضيح كيفية عمل الوسيطات\n",
    "    الموضعية والكلمات الرئيسية والافتراضية\n",
    "    '''\n",
    "    return a + 10*b + 100*c\n",
    "\n",
    "help(funny_add)"
   ]
  },
  {
   "cell_type": "markdown",
   "id": "d36d3eb4",
   "metadata": {},
   "source": [
    "### 2.3 Function are first class citizens\n",
    "Can take in **other functions** as arguments."
   ]
  },
  {
   "cell_type": "code",
   "execution_count": 21,
   "id": "db07e423",
   "metadata": {},
   "outputs": [
    {
     "data": {
      "text/plain": [
       "1.0"
      ]
     },
     "execution_count": 21,
     "metadata": {},
     "output_type": "execute_result"
    }
   ],
   "source": [
    "def my_function(angle, trig_function):\n",
    "        return trig_function(angle)\n",
    "my_function(np.pi/2, np.sin)"
   ]
  },
  {
   "cell_type": "code",
   "execution_count": 22,
   "id": "14ff03bf",
   "metadata": {},
   "outputs": [
    {
     "data": {
      "text/plain": [
       "-1.0"
      ]
     },
     "execution_count": 22,
     "metadata": {},
     "output_type": "execute_result"
    }
   ],
   "source": [
    "my_function(np.pi/2, lambda x: np.cos(2*x))"
   ]
  },
  {
   "cell_type": "markdown",
   "id": "cb1f81ed",
   "metadata": {},
   "source": [
    "### 2.4 More unpacking\n",
    "Works with both arrays and lists.\\\n",
    "`*` Starred expression: everything else, also can use `_`"
   ]
  },
  {
   "cell_type": "code",
   "execution_count": 35,
   "id": "71649712",
   "metadata": {},
   "outputs": [
    {
     "name": "stdout",
     "output_type": "stream",
     "text": [
      "1 2 [3, 4, 5]\n"
     ]
    }
   ],
   "source": [
    "x, y, *z = np.array([1, 2, 3, 4, 5])\n",
    "print(x, y, z)"
   ]
  },
  {
   "cell_type": "markdown",
   "id": "de85b317",
   "metadata": {},
   "source": [
    "## Exercise 1 :  A better calculator I"
   ]
  },
  {
   "cell_type": "code",
   "execution_count": 11,
   "id": "1a5d43f6",
   "metadata": {},
   "outputs": [
    {
     "ename": "AssertionError",
     "evalue": "Merci de ne pas diviser par zéro. Je t'en prie.",
     "output_type": "error",
     "traceback": [
      "\u001b[1;31m---------------------------------------------------------------------------\u001b[0m",
      "\u001b[1;31mAssertionError\u001b[0m                            Traceback (most recent call last)",
      "Cell \u001b[1;32mIn[11], line 12\u001b[0m\n\u001b[0;32m     10\u001b[0m x\u001b[38;5;241m=\u001b[39mnp\u001b[38;5;241m.\u001b[39marray([\u001b[38;5;241m36\u001b[39m, \u001b[38;5;241m34\u001b[39m, \u001b[38;5;241m44\u001b[39m, \u001b[38;5;241m76\u001b[39m, \u001b[38;5;241m27\u001b[39m])\n\u001b[0;32m     11\u001b[0m y\u001b[38;5;241m=\u001b[39mnp\u001b[38;5;241m.\u001b[39marray([\u001b[38;5;241m64\u001b[39m, \u001b[38;5;241m66\u001b[39m, \u001b[38;5;241m56\u001b[39m, \u001b[38;5;241m0\u001b[39m, \u001b[38;5;241m73\u001b[39m])\n\u001b[1;32m---> 12\u001b[0m add(x,y), subtract(x,y), multiply(x,y), \u001b[43mdivide\u001b[49m\u001b[43m(\u001b[49m\u001b[43mx\u001b[49m\u001b[43m,\u001b[49m\u001b[43my\u001b[49m\u001b[43m)\u001b[49m\n",
      "Cell \u001b[1;32mIn[11], line 8\u001b[0m, in \u001b[0;36mdivide\u001b[1;34m(x, y)\u001b[0m\n\u001b[0;32m      7\u001b[0m \u001b[38;5;28;01mdef\u001b[39;00m \u001b[38;5;21mdivide\u001b[39m(x,y):\n\u001b[1;32m----> 8\u001b[0m     \u001b[38;5;28;01massert\u001b[39;00m np\u001b[38;5;241m.\u001b[39mall(y), \u001b[38;5;124m\"\u001b[39m\u001b[38;5;124mMerci de ne pas diviser par zéro. Je t\u001b[39m\u001b[38;5;124m'\u001b[39m\u001b[38;5;124men prie.\u001b[39m\u001b[38;5;124m\"\u001b[39m\n\u001b[0;32m      9\u001b[0m     \u001b[38;5;28;01mreturn\u001b[39;00m x\u001b[38;5;241m/\u001b[39my\n",
      "\u001b[1;31mAssertionError\u001b[0m: Merci de ne pas diviser par zéro. Je t'en prie."
     ]
    }
   ],
   "source": [
    "def add(x,y):\n",
    "    return x+y\n",
    "def subtract(x,y):\n",
    "    return x-y\n",
    "def multiply(x,y):\n",
    "    return x*y\n",
    "def divide(x,y):\n",
    "    assert np.all(y), \"Merci de ne pas diviser par zéro. Je t'en prie.\"\n",
    "    return x/y\n",
    "x=np.array([36, 34, 44, 76, 27])\n",
    "y=np.array([64, 66, 56, 0, 73])\n",
    "add(x,y), subtract(x,y), multiply(x,y), divide(x,y)\n"
   ]
  },
  {
   "cell_type": "markdown",
   "id": "c62dc567",
   "metadata": {},
   "source": [
    "## Exercise 2 :  A better calculator II"
   ]
  },
  {
   "cell_type": "code",
   "execution_count": 15,
   "id": "9414a809",
   "metadata": {},
   "outputs": [
    {
     "data": {
      "text/plain": [
       "(36, 36, 0, \"Merci de ne pas diviser par zéro. Je t'en prie.\")"
      ]
     },
     "execution_count": 15,
     "metadata": {},
     "output_type": "execute_result"
    }
   ],
   "source": [
    "def add(x,y):\n",
    "    return x+y\n",
    "def subtract(x,y):\n",
    "    return x-y\n",
    "def multiply(x,y):\n",
    "    return x*y\n",
    "def divide(a,b):\n",
    "    try:\n",
    "        for i in b:\n",
    "            1/float(i) #only single elements throw error when /0, others throw warnings\n",
    "    except:\n",
    "        return \"Merci de ne pas diviser par zéro. Je t'en prie.\"\n",
    "    return a/b\n",
    "x=36\n",
    "y=0\n",
    "add(x,y), subtract(x,y), multiply(x,y), divide(x,y)"
   ]
  },
  {
   "cell_type": "code",
   "execution_count": null,
   "id": "c0c32e58",
   "metadata": {},
   "outputs": [],
   "source": []
  }
 ],
 "metadata": {
  "kernelspec": {
   "display_name": "Python 3 (ipykernel)",
   "language": "python",
   "name": "python3"
  },
  "language_info": {
   "codemirror_mode": {
    "name": "ipython",
    "version": 3
   },
   "file_extension": ".py",
   "mimetype": "text/x-python",
   "name": "python",
   "nbconvert_exporter": "python",
   "pygments_lexer": "ipython3",
   "version": "3.9.5"
  },
  "toc": {
   "base_numbering": 1,
   "nav_menu": {},
   "number_sections": true,
   "sideBar": true,
   "skip_h1_title": false,
   "title_cell": "Table of Contents",
   "title_sidebar": "Contents",
   "toc_cell": false,
   "toc_position": {},
   "toc_section_display": true,
   "toc_window_display": false
  },
  "varInspector": {
   "cols": {
    "lenName": 16,
    "lenType": 16,
    "lenVar": 40
   },
   "kernels_config": {
    "python": {
     "delete_cmd_postfix": "",
     "delete_cmd_prefix": "del ",
     "library": "var_list.py",
     "varRefreshCmd": "print(var_dic_list())"
    },
    "r": {
     "delete_cmd_postfix": ") ",
     "delete_cmd_prefix": "rm(",
     "library": "var_list.r",
     "varRefreshCmd": "cat(var_dic_list()) "
    }
   },
   "types_to_exclude": [
    "module",
    "function",
    "builtin_function_or_method",
    "instance",
    "_Feature"
   ],
   "window_display": false
  },
  "vscode": {
   "interpreter": {
    "hash": "31f2aee4e71d21fbe5cf8b01ff0e069b9275f58929596ceb00d14d90e3e16cd6"
   }
  }
 },
 "nbformat": 4,
 "nbformat_minor": 5
}
