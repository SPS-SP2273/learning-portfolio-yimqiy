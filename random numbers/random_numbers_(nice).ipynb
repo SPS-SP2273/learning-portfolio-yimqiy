{
 "cells": [
  {
   "cell_type": "markdown",
   "id": "123456",
   "metadata": {},
   "source": [
    "<div style=\"text-align:left;font-size:2em\"><span style=\"font-weight:bolder;font-size:1.25em\">SP2273 | Learning Portfolio</span><br><br><span style=\"font-weight:bold;color:darkred\">Random Numbers (Nice)</span></div>"
   ]
  },
  {
   "cell_type": "markdown",
   "id": "49c5470c",
   "metadata": {},
   "source": [
    "## 1 MC strategy for integration"
   ]
  },
  {
   "cell_type": "markdown",
   "id": "f3190fe3",
   "metadata": {},
   "source": [
    "## Explore 3 :  Monte Carlo Integration"
   ]
  },
  {
   "cell_type": "code",
   "execution_count": 6,
   "id": "d7bc96e8",
   "metadata": {},
   "outputs": [
    {
     "data": {
      "text/plain": [
       "4.0398"
      ]
     },
     "execution_count": 6,
     "metadata": {},
     "output_type": "execute_result"
    }
   ],
   "source": [
    "import numpy as np\n",
    "import numpy.random as rnd\n",
    "N_below = 0  # counter\n",
    "N_all = 10_000\n",
    "for _ in range(N_all):\n",
    "    x = rnd.uniform(low=2, high=3, size=1)\n",
    "    y = rnd.uniform(low=0, high=6, size=1)\n",
    "    def f_x(x): return x**2 * np.sin(2*x)**2\n",
    "    if y <= f_x(x):\n",
    "        N_below += 1\n",
    "6*N_below/N_all"
   ]
  },
  {
   "cell_type": "code",
   "execution_count": 7,
   "id": "55b3aefc",
   "metadata": {},
   "outputs": [
    {
     "data": {
      "text/plain": [
       "4.06362"
      ]
     },
     "execution_count": 7,
     "metadata": {},
     "output_type": "execute_result"
    }
   ],
   "source": [
    "N_below = 0  # counter\n",
    "N_all = 1_000_000\n",
    "for _ in range(N_all):\n",
    "    x = rnd.uniform(low=2, high=3, size=1)\n",
    "    y = rnd.uniform(low=0, high=6, size=1)\n",
    "    def f_x(x): return x**2 * np.sin(2*x)**2\n",
    "    if y <= f_x(x):\n",
    "        N_below += 1\n",
    "6*N_below/N_all"
   ]
  },
  {
   "cell_type": "markdown",
   "id": "84f516bf",
   "metadata": {},
   "source": [
    "## 2 Another MC strategy for integration"
   ]
  },
  {
   "cell_type": "markdown",
   "id": "c7cfab98",
   "metadata": {},
   "source": [
    "### 2.1 Some theory"
   ]
  },
  {
   "cell_type": "markdown",
   "id": "9483785f",
   "metadata": {},
   "source": [
    "## Explore 4 :  Integration with an estimator"
   ]
  },
  {
   "cell_type": "code",
   "execution_count": 8,
   "id": "33217d85",
   "metadata": {},
   "outputs": [
    {
     "name": "stdout",
     "output_type": "stream",
     "text": [
      "[4.06551528]\n"
     ]
    }
   ],
   "source": [
    "N_all = 1_000_000\n",
    "y_sum = 0\n",
    "a = 2\n",
    "b = 3\n",
    "for _ in range(N_all):\n",
    "    x = rnd.uniform(low=a, high=b, size=1)\n",
    "    def f_x(x): return x**2 * np.sin(2*x)**2\n",
    "    y_sum += f_x(x)\n",
    "print((b-a)/N_all*y_sum)"
   ]
  },
  {
   "cell_type": "markdown",
   "id": "720eb647",
   "metadata": {},
   "source": [
    "The MC estimator is faster as only one random variable is generated rather than two."
   ]
  }
 ],
 "metadata": {
  "kernelspec": {
   "display_name": "Python 3 (ipykernel)",
   "language": "python",
   "name": "python3"
  },
  "language_info": {
   "codemirror_mode": {
    "name": "ipython",
    "version": 3
   },
   "file_extension": ".py",
   "mimetype": "text/x-python",
   "name": "python",
   "nbconvert_exporter": "python",
   "pygments_lexer": "ipython3",
   "version": "3.9.5"
  },
  "toc": {
   "base_numbering": 1,
   "nav_menu": {},
   "number_sections": true,
   "sideBar": true,
   "skip_h1_title": false,
   "title_cell": "Table of Contents",
   "title_sidebar": "Contents",
   "toc_cell": false,
   "toc_position": {},
   "toc_section_display": true,
   "toc_window_display": false
  },
  "varInspector": {
   "cols": {
    "lenName": 16,
    "lenType": 16,
    "lenVar": 40
   },
   "kernels_config": {
    "python": {
     "delete_cmd_postfix": "",
     "delete_cmd_prefix": "del ",
     "library": "var_list.py",
     "varRefreshCmd": "print(var_dic_list())"
    },
    "r": {
     "delete_cmd_postfix": ") ",
     "delete_cmd_prefix": "rm(",
     "library": "var_list.r",
     "varRefreshCmd": "cat(var_dic_list()) "
    }
   },
   "position": {
    "height": "287.844px",
    "left": "1539px",
    "right": "20px",
    "top": "120px",
    "width": "361px"
   },
   "types_to_exclude": [
    "module",
    "function",
    "builtin_function_or_method",
    "instance",
    "_Feature"
   ],
   "window_display": true
  },
  "vscode": {
   "interpreter": {
    "hash": "31f2aee4e71d21fbe5cf8b01ff0e069b9275f58929596ceb00d14d90e3e16cd6"
   }
  }
 },
 "nbformat": 4,
 "nbformat_minor": 5
}
