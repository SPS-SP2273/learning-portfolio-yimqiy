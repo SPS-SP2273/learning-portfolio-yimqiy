{
 "cells": [
  {
   "cell_type": "markdown",
   "id": "123456",
   "metadata": {},
   "source": [
    "<div style=\"text-align:left;font-size:2em\"><span style=\"font-weight:bolder;font-size:1.25em\">SP2273 | Learning Portfolio</span><br><br><span style=\"font-weight:bold;color:darkred\">Basics (Need)</span></div>"
   ]
  },
  {
   "cell_type": "markdown",
   "id": "c01c4ae4",
   "metadata": {},
   "source": [
    "## 1 Some Python Basics"
   ]
  },
  {
   "cell_type": "markdown",
   "id": "39bc5f72",
   "metadata": {},
   "source": [
    "### 1.1 Functions"
   ]
  },
  {
   "cell_type": "code",
   "execution_count": 1,
   "id": "e1ab9aed",
   "metadata": {},
   "outputs": [
    {
     "name": "stdout",
     "output_type": "stream",
     "text": [
      "BRIDGE\n",
      "AVALON\n"
     ]
    }
   ],
   "source": [
    "print('BRIDGE')\n",
    "print('AVALON')"
   ]
  },
  {
   "cell_type": "markdown",
   "id": "e70d86e4",
   "metadata": {},
   "source": [
    "### 1.2 Python is interpreted"
   ]
  },
  {
   "cell_type": "code",
   "execution_count": 2,
   "id": "56a44a5f",
   "metadata": {},
   "outputs": [
    {
     "name": "stdout",
     "output_type": "stream",
     "text": [
      "poker\n"
     ]
    }
   ],
   "source": [
    "print('poker')"
   ]
  },
  {
   "cell_type": "markdown",
   "id": "41efc496",
   "metadata": {},
   "source": [
    "### 1.3 Python is sensitive."
   ]
  },
  {
   "cell_type": "code",
   "execution_count": 3,
   "id": "a8396954",
   "metadata": {},
   "outputs": [
    {
     "name": "stdout",
     "output_type": "stream",
     "text": [
      "sadge\n"
     ]
    }
   ],
   "source": [
    "print('sadge')      # This WILL work\n",
    "#Print('sadge')      # This will NOT work"
   ]
  },
  {
   "cell_type": "markdown",
   "id": "f33083b1",
   "metadata": {},
   "source": [
    "### 1.4 Comments"
   ]
  },
  {
   "cell_type": "code",
   "execution_count": 5,
   "id": "79c04473",
   "metadata": {},
   "outputs": [
    {
     "name": "stdout",
     "output_type": "stream",
     "text": [
      "darn.\n"
     ]
    }
   ],
   "source": [
    "print(\"darn.\" )     # Printing \"darn.\""
   ]
  },
  {
   "cell_type": "markdown",
   "id": "e0456ca7",
   "metadata": {},
   "source": [
    "### 1.5 = is not the same as =="
   ]
  },
  {
   "cell_type": "code",
   "execution_count": 5,
   "id": "96df6875",
   "metadata": {},
   "outputs": [
    {
     "data": {
      "text/plain": [
       "True"
      ]
     },
     "execution_count": 5,
     "metadata": {},
     "output_type": "execute_result"
    }
   ],
   "source": [
    "name = 'Batman'\n",
    "name == 'Batman'           # Tell me if name is equal to 'Batman'?\n",
    "                           # Answer:  True or False"
   ]
  },
  {
   "cell_type": "markdown",
   "id": "880ec36c",
   "metadata": {},
   "source": [
    "### 1.6 Use if to make decisions"
   ]
  },
  {
   "cell_type": "code",
   "execution_count": 6,
   "id": "9e40b40e",
   "metadata": {},
   "outputs": [
    {
     "name": "stdout",
     "output_type": "stream",
     "text": [
      "Hello Hero | Batman!\n"
     ]
    }
   ],
   "source": [
    "if name == 'Batman':\n",
    "    print('Hello Hero | Batman!')\n",
    "else:\n",
    "    print('Hello World!')"
   ]
  },
  {
   "cell_type": "markdown",
   "id": "df424d12",
   "metadata": {},
   "source": [
    "### 1.7 Indentations (spaces) are sooo IMPORTANT!"
   ]
  },
  {
   "cell_type": "code",
   "execution_count": 7,
   "id": "1e912d8f",
   "metadata": {},
   "outputs": [
    {
     "ename": "SyntaxError",
     "evalue": "invalid syntax (Temp/ipykernel_47084/40591002.py, line 1)",
     "output_type": "error",
     "traceback": [
      "\u001b[1;36m  File \u001b[1;32m\"C:\\Users\\yimqi\\AppData\\Local\\Temp/ipykernel_47084/40591002.py\"\u001b[1;36m, line \u001b[1;32m1\u001b[0m\n\u001b[1;33m    if (name == 'Batman') {\u001b[0m\n\u001b[1;37m                          ^\u001b[0m\n\u001b[1;31mSyntaxError\u001b[0m\u001b[1;31m:\u001b[0m invalid syntax\n"
     ]
    }
   ],
   "source": [
    "if (name == 'Batman') {\n",
    "  print('Hello Hero | Batman!')\n",
    "} else {\n",
    "  print('Hello World!')\n",
    "}"
   ]
  },
  {
   "cell_type": "markdown",
   "id": "b0826770",
   "metadata": {},
   "source": [
    "### 1.8 ‘age’ is English, age is a variable."
   ]
  },
  {
   "cell_type": "code",
   "execution_count": null,
   "id": "36960444",
   "metadata": {},
   "outputs": [],
   "source": [
    "print(age)       # Print the value of the variable age\n",
    "print(\"age\")     # Print the English word 'age'"
   ]
  },
  {
   "cell_type": "markdown",
   "id": "7d05c3ed",
   "metadata": {},
   "source": [
    "### 1.9 Escape sequences"
   ]
  },
  {
   "cell_type": "code",
   "execution_count": null,
   "id": "48f1e03b",
   "metadata": {},
   "outputs": [],
   "source": [
    "print('You\\'re twenty years old.')\n",
    "print('A\\\\B\\\\C')\n",
    "print('A\\nB\\nC')\n",
    "print('A\\tB\\tC')"
   ]
  },
  {
   "cell_type": "markdown",
   "id": "2ad3f2b1",
   "metadata": {},
   "source": [
    "### 1.10 Brackets"
   ]
  },
  {
   "cell_type": "code",
   "execution_count": null,
   "id": "d75079bd",
   "metadata": {},
   "outputs": [],
   "source": [
    "print('Hello!')             # In functions\n",
    "(1 + 2) * 5                 # For math\n",
    "py_list = [1, 2, 3, 4, 5]   # A 1D list\n",
    "\n",
    "py_list_2 = [[1, \"A\"],      # A 2D list\n",
    "             [2, \"B\"],\n",
    "             [3, \"C\"],\n",
    "             [4, \"D\"],\n",
    "             [5, \"E\"]]\n",
    "#Python uses { } to store data that use a key-to identify a value.\n",
    "#This means of storing data is called a dictionary.\n",
    "personal_info = {\n",
    "    'Names': 'Batman',\n",
    "    'Real Name': 'Bruce Wayne',\n",
    "    'Age': 55,\n",
    "    'Affiliation': 'Justice League',\n",
    "    'Universe': 'DC'\n",
    "}\n",
    "#A dictionary is a neat way to store data because you easily access information with a key; for example:\n",
    "\n",
    "print(personal_info['Real Name'])  "
   ]
  },
  {
   "cell_type": "markdown",
   "id": "0aafc0ad",
   "metadata": {},
   "source": [
    "## 2 Giving Python superpowers"
   ]
  },
  {
   "cell_type": "markdown",
   "id": "6f6b6bae",
   "metadata": {},
   "source": [
    "### 2.1 Packages"
   ]
  },
  {
   "cell_type": "code",
   "execution_count": null,
   "id": "ae958deb",
   "metadata": {},
   "outputs": [],
   "source": [
    "1 * ((2 - 3) + 4) ** 5 / 6\n",
    "import math\n",
    "math.sqrt(4)\n",
    "import numpy as np\n",
    "np.sqrt(4)\n",
    "np.sqrt([4,9,16])"
   ]
  },
  {
   "cell_type": "markdown",
   "id": "ab0b64a3",
   "metadata": {},
   "source": [
    "### 2.2 The dot (.)"
   ]
  },
  {
   "cell_type": "code",
   "execution_count": null,
   "id": "b50b67f4",
   "metadata": {},
   "outputs": [],
   "source": [
    "math. sqrt (4)\n",
    "np. sqrt (4)\n",
    "\"I am Batman\".split()\n",
    "# Your code here\n"
   ]
  },
  {
   "cell_type": "markdown",
   "id": "ac46be80",
   "metadata": {},
   "source": [
    "## Exercise 1 :  Total recall?"
   ]
  },
  {
   "cell_type": "markdown",
   "id": "a89b75be",
   "metadata": {},
   "source": [
    "- if statements\n",
    "- conditionals\n",
    "- logicals\n",
    "- indentation\n",
    "- printing\n",
    "- comments\n",
    "- variable\n",
    "- packages\n",
    "- math\n",
    "- numpy as np\n",
    "- string\n",
    "- brackets\n",
    "- escape sequences"
   ]
  },
  {
   "cell_type": "markdown",
   "id": "d5a07032",
   "metadata": {},
   "source": [
    "## Exercise 2 :  Debug me"
   ]
  },
  {
   "cell_type": "code",
   "execution_count": 13,
   "id": "0c2ea193",
   "metadata": {},
   "outputs": [
    {
     "name": "stdout",
     "output_type": "stream",
     "text": [
      "3 4 5\n"
     ]
    }
   ],
   "source": [
    "x, y = 3, 4\n",
    "z = np.sqrt(x**2 + y**2) #or ()**0.5\n",
    "print(x, y, f'{z:g}') #without '.0'"
   ]
  },
  {
   "cell_type": "markdown",
   "id": "8c9bc9b1",
   "metadata": {},
   "source": [
    "## Exercise 3 :  In your own words"
   ]
  },
  {
   "cell_type": "markdown",
   "id": "e72e3f38",
   "metadata": {},
   "source": [
    "| #   |  Term   | Description |\n",
    "| :--- | :--- | :--- |\n",
    "| 1   |  Function  | Maps input(s) to output(s) through a series of operations. Unlike math, output(s) may not be consistent|\n",
    "| 2   |  Arguments  |  The input(s) of a function |\n",
    "| 3   |  Comments  | ~~A way to disable code that doesn't work~~ |\n",
    "| 4   |  Indentations  | Differentiates levels of instructions in loops, conditionals, functions etc |\n",
    "| 5   |  Packages  | Add-ons or extensions that must be imported for a new session |\n",
    "| 6   |  ``.``  |   Used to access a function belonging to a **package**|"
   ]
  },
  {
   "cell_type": "markdown",
   "id": "4d24f9d7",
   "metadata": {},
   "source": [
    "## Exercise 4 :  More than one way to divide\n",
    "$\\dfrac{a}{b}$"
   ]
  },
  {
   "cell_type": "code",
   "execution_count": 8,
   "id": "9b415e14",
   "metadata": {},
   "outputs": [
    {
     "data": {
      "text/plain": [
       "2.5"
      ]
     },
     "execution_count": 8,
     "metadata": {},
     "output_type": "execute_result"
    }
   ],
   "source": [
    "5/2"
   ]
  },
  {
   "cell_type": "code",
   "execution_count": 9,
   "id": "7aec2e64",
   "metadata": {},
   "outputs": [
    {
     "data": {
      "text/plain": [
       "2"
      ]
     },
     "execution_count": 9,
     "metadata": {},
     "output_type": "execute_result"
    }
   ],
   "source": [
    "5//2"
   ]
  },
  {
   "cell_type": "code",
   "execution_count": 10,
   "id": "ecd7af0b",
   "metadata": {},
   "outputs": [
    {
     "data": {
      "text/plain": [
       "1"
      ]
     },
     "execution_count": 10,
     "metadata": {},
     "output_type": "execute_result"
    }
   ],
   "source": [
    "5%2"
   ]
  },
  {
   "cell_type": "markdown",
   "id": "54a3d2e7",
   "metadata": {},
   "source": [
    "/ returns normal division, // returns the floor, while % returns the remainder ($a\\mod b$)"
   ]
  },
  {
   "cell_type": "code",
   "execution_count": 11,
   "id": "b6b8106f",
   "metadata": {},
   "outputs": [
    {
     "data": {
      "text/plain": [
       "2.0"
      ]
     },
     "execution_count": 11,
     "metadata": {},
     "output_type": "execute_result"
    }
   ],
   "source": [
    "(5-5%2)/2"
   ]
  },
  {
   "cell_type": "code",
   "execution_count": null,
   "id": "8ae265b4",
   "metadata": {},
   "outputs": [],
   "source": []
  }
 ],
 "metadata": {
  "kernelspec": {
   "display_name": "Python 3 (ipykernel)",
   "language": "python",
   "name": "python3"
  },
  "language_info": {
   "codemirror_mode": {
    "name": "ipython",
    "version": 3
   },
   "file_extension": ".py",
   "mimetype": "text/x-python",
   "name": "python",
   "nbconvert_exporter": "python",
   "pygments_lexer": "ipython3",
   "version": "3.9.5"
  },
  "toc": {
   "base_numbering": 1,
   "nav_menu": {},
   "number_sections": true,
   "sideBar": true,
   "skip_h1_title": false,
   "title_cell": "Table of Contents",
   "title_sidebar": "Contents",
   "toc_cell": false,
   "toc_position": {},
   "toc_section_display": true,
   "toc_window_display": false
  },
  "varInspector": {
   "cols": {
    "lenName": 16,
    "lenType": 16,
    "lenVar": 40
   },
   "kernels_config": {
    "python": {
     "delete_cmd_postfix": "",
     "delete_cmd_prefix": "del ",
     "library": "var_list.py",
     "varRefreshCmd": "print(var_dic_list())"
    },
    "r": {
     "delete_cmd_postfix": ") ",
     "delete_cmd_prefix": "rm(",
     "library": "var_list.r",
     "varRefreshCmd": "cat(var_dic_list()) "
    }
   },
   "types_to_exclude": [
    "module",
    "function",
    "builtin_function_or_method",
    "instance",
    "_Feature"
   ],
   "window_display": true
  },
  "vscode": {
   "interpreter": {
    "hash": "31f2aee4e71d21fbe5cf8b01ff0e069b9275f58929596ceb00d14d90e3e16cd6"
   }
  }
 },
 "nbformat": 4,
 "nbformat_minor": 5
}
