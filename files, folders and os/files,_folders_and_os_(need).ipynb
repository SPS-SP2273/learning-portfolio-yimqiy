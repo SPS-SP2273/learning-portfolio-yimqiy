{
 "cells": [
  {
   "cell_type": "markdown",
   "id": "123456",
   "metadata": {},
   "source": [
    "<div style=\"text-align:left;font-size:2em\"><span style=\"font-weight:bolder;font-size:1.25em\">SP2273 | Learning Portfolio</span><br><br><span style=\"font-weight:bold;color:darkred\">Files, Folders and OS (Need)</span></div>"
   ]
  },
  {
   "cell_type": "markdown",
   "id": "5ff3f24f",
   "metadata": {},
   "source": [
    "## 1 Important concepts"
   ]
  },
  {
   "cell_type": "markdown",
   "id": "3d8ffe7e",
   "metadata": {},
   "source": [
    "### 1.1 Path"
   ]
  },
  {
   "cell_type": "markdown",
   "id": "8f531351",
   "metadata": {},
   "source": [
    "`C:\\\\Users\\yimqi\\Desktop\\data-01.txt`"
   ]
  },
  {
   "cell_type": "markdown",
   "id": "2ce80a1e",
   "metadata": {},
   "source": [
    "### 1.2 More about relative paths"
   ]
  },
  {
   "cell_type": "markdown",
   "id": "6095b564",
   "metadata": {},
   "source": [
    "- `.\\data-files\\data-01.txt` means the file data-01.txt in the folder data-files in the current folder.\n",
    "- `..\\data-files\\data-01.txt` means the file data-01.txt in the folder data-files located in the folder above.\n",
    "- `~/Desktop` for home directory in MacOS X and Linux"
   ]
  },
  {
   "cell_type": "markdown",
   "id": "85929c8b",
   "metadata": {},
   "source": [
    "### 1.3 Path separator"
   ]
  },
  {
   "cell_type": "markdown",
   "id": "5c00e71b",
   "metadata": {},
   "source": [
    "| OS   |  path   |\n",
    "| -|- |\n",
    "|Windows | `C:\\\\Users\\chammika\\Desktop\\data-01.txt`|\n",
    "|Mac OS X (or Linux)|`/Users/chammika/Desktop/data-01.txt`|"
   ]
  },
  {
   "cell_type": "markdown",
   "id": "841445fa",
   "metadata": {},
   "source": [
    "### Text files vs Binary files"
   ]
  },
  {
   "cell_type": "markdown",
   "id": "855d3873",
   "metadata": {},
   "source": [
    "- `.txt`, `.md`, `.csv` text files\n",
    "- `png` `.xls` `.xlsx` binary files, may require certain OSs (or just install an appropriate app)"
   ]
  },
  {
   "cell_type": "markdown",
   "id": "ce02f16a",
   "metadata": {},
   "source": [
    "### Extentions"
   ]
  },
  {
   "cell_type": "markdown",
   "id": "e9515892",
   "metadata": {},
   "source": [
    "Have you ever played those ARGs where you change a random binary file into .txt to look for some encoded message?"
   ]
  },
  {
   "cell_type": "markdown",
   "id": "4f93ba9f",
   "metadata": {},
   "source": [
    "### 1.4 Opening and closing files"
   ]
  },
  {
   "cell_type": "code",
   "execution_count": 55,
   "id": "ce5e6fd3",
   "metadata": {},
   "outputs": [
    {
     "name": "stdout",
     "output_type": "stream",
     "text": [
      "Light Intensity, Ch A vs Actual Angular Position, Run #4\n",
      "Actual Angular Position (  )\tLight Intensity, Ch A ( % max )\n",
      "0.000\t-0.2\n",
      "0.000\t-0.1\n",
      "0.000\t-0.1\n",
      "0.000\t-0.1\n",
      "0.000\t-0.1\n",
      "0.000\t-0.2\n",
      "0.000\t-0.1\n",
      "0.000\t-0.1\n",
      "0.000\t-0.1\n",
      "0.000\t-0.2\n",
      "0.000\t-0.1\n",
      "0.000\t-0.1\n",
      "0.000\t-0.2\n",
      "0.000\t-0.3\n",
      "0.000\t-0.2\n",
      "0.000\t-0.2\n",
      "0.001\t-0.1\n",
      "0.001\t-0.1\n",
      "0.001\t-0.1\n",
      "0.001\t-0.1\n",
      "0.001\t-0.1\n",
      "0.001\t-0.1\n",
      "0.004\t-0.1\n",
      "0.010\t-0.2\n",
      "0.018\t-0.2\n",
      "0.024\t-0.3\n",
      "0.029\t-0.3\n",
      "0.033\t-0.3\n",
      "0.036\t-0.2\n",
      "0.039\t-0.1\n",
      "0.043\t-0.1\n",
      "0.047\t-0.1\n",
      "0.053\t-0.1\n",
      "0.060\t-0.1\n",
      "0.066\t-0.1\n",
      "0.069\t-0.1\n",
      "0.073\t-0.1\n",
      "0.076\t-0.1\n",
      "0.079\t-0.1\n",
      "0.081\t-0.1\n",
      "0.082\t-0.1\n",
      "0.083\t-0.2\n",
      "0.083\t-0.2\n",
      "0.086\t-0.2\n",
      "0.090\t-0.2\n",
      "0.095\t-0.2\n",
      "0.100\t-0.3\n",
      "0.103\t-0.3\n",
      "0.104\t-0.2\n",
      "0.105\t-0.3\n",
      "0.107\t-0.2\n",
      "0.110\t-0.2\n",
      "0.115\t-0.1\n",
      "0.122\t-0.2\n",
      "0.128\t-0.1\n",
      "0.134\t-0.2\n",
      "0.139\t-0.1\n",
      "0.144\t-0.2\n",
      "0.150\t-0.2\n",
      "0.157\t-0.2\n",
      "0.164\t-0.2\n",
      "0.170\t-0.3\n",
      "0.175\t-0.3\n",
      "0.180\t-0.2\n",
      "0.185\t-0.2\n",
      "0.191\t-0.1\n",
      "0.195\t-0.1\n",
      "0.198\t-0.2\n",
      "0.201\t-0.1\n",
      "0.204\t-0.2\n",
      "0.206\t-0.2\n",
      "0.208\t-0.3\n",
      "0.210\t-0.3\n",
      "0.213\t-0.1\n",
      "0.217\t0.3\n",
      "0.222\t0.6\n",
      "0.226\t0.2\n",
      "0.230\t0.0\n",
      "0.233\t-0.1\n",
      "0.235\t-0.1\n",
      "0.237\t-0.1\n",
      "0.237\t-0.1\n",
      "0.238\t-0.1\n",
      "0.241\t-0.1\n",
      "0.245\t-0.1\n",
      "0.249\t-0.1\n",
      "0.252\t-0.1\n",
      "0.254\t-0.2\n",
      "0.257\t-0.2\n",
      "0.260\t-0.2\n",
      "0.263\t-0.3\n",
      "0.266\t-0.3\n",
      "0.269\t-0.2\n",
      "0.271\t-0.1\n",
      "0.274\t-0.1\n",
      "0.277\t-0.2\n",
      "0.279\t-0.1\n",
      "0.282\t-0.2\n",
      "0.285\t-0.1\n",
      "0.289\t-0.2\n",
      "0.292\t-0.2\n",
      "0.297\t-0.3\n",
      "0.300\t-0.2\n",
      "0.304\t-0.1\n",
      "0.307\t-0.1\n",
      "0.310\t-0.2\n",
      "0.312\t-0.1\n",
      "0.316\t-0.1\n",
      "0.320\t-0.2\n",
      "0.325\t-0.3\n",
      "0.330\t-0.2\n",
      "0.334\t-0.1\n",
      "0.336\t-0.1\n",
      "0.338\t-0.1\n",
      "0.340\t-0.1\n",
      "0.343\t-0.1\n",
      "0.346\t-0.2\n",
      "0.349\t-0.3\n",
      "0.353\t-0.1\n",
      "0.357\t-0.1\n",
      "0.362\t-0.1\n",
      "0.367\t-0.2\n",
      "0.369\t-0.1\n",
      "0.371\t-0.2\n",
      "0.371\t-0.1\n",
      "0.372\t-0.2\n",
      "0.372\t-0.2\n",
      "0.372\t-0.1\n",
      "0.373\t-0.2\n",
      "0.374\t-0.1\n",
      "0.376\t-0.2\n",
      "0.378\t-0.1\n",
      "0.380\t-0.2\n",
      "0.382\t-0.2\n",
      "0.384\t-0.2\n",
      "0.385\t-0.2\n",
      "0.386\t-0.2\n",
      "0.387\t-0.2\n",
      "0.389\t-0.3\n",
      "0.391\t-0.3\n",
      "0.394\t-0.2\n",
      "0.398\t-0.1\n",
      "0.401\t-0.1\n",
      "0.404\t-0.1\n",
      "0.405\t-0.1\n",
      "0.406\t-0.1\n",
      "0.408\t-0.1\n",
      "0.411\t-0.1\n",
      "0.414\t-0.2\n",
      "0.417\t-0.1\n",
      "0.420\t-0.2\n",
      "0.423\t-0.1\n",
      "0.425\t-0.2\n",
      "0.427\t-0.1\n",
      "0.430\t-0.1\n",
      "0.433\t-0.1\n",
      "0.437\t-0.2\n",
      "0.440\t-0.2\n",
      "0.443\t-0.1\n",
      "0.446\t-0.1\n",
      "0.449\t-0.1\n",
      "0.453\t-0.1\n",
      "0.458\t-0.1\n",
      "0.462\t-0.2\n",
      "0.466\t-0.2\n",
      "0.469\t-0.2\n",
      "0.472\t-0.3\n",
      "0.474\t-0.3\n",
      "0.477\t-0.2\n",
      "0.481\t-0.1\n",
      "0.486\t-0.1\n",
      "0.490\t-0.1\n",
      "0.493\t-0.1\n",
      "0.496\t0.0\n",
      "0.498\t0.0\n",
      "0.501\t-0.1\n",
      "0.503\t-0.1\n",
      "0.505\t-0.2\n",
      "0.507\t-0.3\n",
      "0.510\t-0.1\n",
      "0.513\t-0.1\n",
      "0.516\t-0.1\n",
      "0.519\t-0.1\n",
      "0.523\t-0.1\n",
      "0.526\t-0.1\n",
      "0.529\t-0.1\n",
      "0.533\t-0.1\n",
      "0.537\t-0.1\n",
      "0.541\t-0.2\n",
      "0.544\t-0.1\n",
      "0.547\t-0.1\n",
      "0.549\t-0.1\n",
      "0.551\t-0.1\n",
      "0.554\t-0.1\n",
      "0.557\t-0.1\n",
      "0.561\t-0.1\n",
      "0.564\t-0.1\n",
      "0.568\t-0.2\n",
      "0.572\t-0.2\n",
      "0.577\t-0.2\n",
      "0.581\t-0.1\n",
      "0.586\t0.0\n",
      "0.588\t0.0\n",
      "0.590\t-0.1\n",
      "0.592\t-0.1\n",
      "0.593\t-0.2\n",
      "0.596\t-0.2\n",
      "0.599\t-0.2\n",
      "0.602\t-0.2\n",
      "0.605\t-0.2\n",
      "0.606\t-0.2\n",
      "0.607\t-0.2\n",
      "0.609\t-0.1\n",
      "0.610\t-0.1\n",
      "0.613\t0.0\n",
      "0.615\t0.0\n",
      "0.617\t-0.1\n",
      "0.619\t-0.1\n",
      "0.622\t-0.2\n",
      "0.624\t-0.1\n",
      "0.626\t0.0\n",
      "0.629\t0.1\n",
      "0.632\t0.1\n",
      "0.634\t0.0\n",
      "0.637\t0.0\n",
      "0.639\t0.0\n",
      "0.641\t0.0\n",
      "0.643\t0.0\n",
      "0.645\t0.0\n",
      "0.648\t0.0\n",
      "0.650\t0.0\n",
      "0.653\t0.0\n",
      "0.656\t0.0\n",
      "0.658\t-0.1\n",
      "0.661\t-0.2\n",
      "0.663\t0.0\n",
      "0.666\t0.0\n",
      "0.670\t0.0\n",
      "0.676\t0.0\n",
      "0.680\t0.0\n",
      "0.684\t0.0\n",
      "0.686\t0.1\n",
      "0.686\t0.1\n",
      "0.687\t0.0\n",
      "0.689\t0.0\n",
      "0.693\t0.1\n",
      "0.697\t0.3\n",
      "0.701\t0.5\n",
      "0.703\t1.2\n",
      "0.705\t7.1\n",
      "0.707\t23.7\n",
      "0.709\t51.4\n",
      "0.710\t61.3\n",
      "0.712\t48.9\n",
      "0.714\t25.8\n",
      "0.715\t12.1\n",
      "0.717\t4.6\n",
      "0.718\t1.8\n",
      "0.721\t0.7\n",
      "0.723\t0.5\n",
      "0.724\t0.4\n",
      "0.726\t0.4\n",
      "0.727\t0.4\n",
      "0.728\t0.3\n",
      "0.730\t0.2\n",
      "0.732\t0.2\n",
      "0.735\t0.1\n",
      "0.737\t0.2\n",
      "0.740\t0.2\n",
      "0.742\t0.2\n",
      "0.744\t0.1\n",
      "0.746\t0.1\n",
      "0.748\t0.1\n",
      "0.749\t0.1\n",
      "0.750\t0.0\n",
      "0.752\t0.0\n",
      "0.754\t0.1\n",
      "0.756\t0.1\n",
      "0.758\t0.1\n",
      "0.761\t0.1\n",
      "0.764\t0.0\n",
      "0.766\t-0.1\n",
      "0.768\t-0.1\n",
      "0.770\t-0.1\n",
      "0.772\t0.0\n",
      "0.774\t0.0\n",
      "0.777\t0.0\n",
      "0.779\t0.0\n",
      "0.780\t0.0\n",
      "0.782\t0.0\n",
      "0.784\t-0.1\n",
      "0.785\t0.0\n",
      "0.787\t0.0\n",
      "0.789\t0.0\n",
      "0.791\t0.0\n",
      "0.793\t0.0\n",
      "0.795\t0.0\n",
      "0.797\t-0.1\n",
      "0.800\t0.0\n",
      "0.804\t0.0\n",
      "0.806\t0.0\n",
      "0.809\t0.0\n",
      "0.811\t0.1\n",
      "0.813\t0.9\n",
      "0.815\t3.0\n",
      "0.817\t5.9\n",
      "0.819\t6.6\n",
      "0.821\t4.0\n",
      "0.823\t1.3\n",
      "0.826\t0.2\n",
      "0.828\t0.1\n",
      "0.831\t0.1\n",
      "0.833\t0.1\n",
      "0.836\t0.1\n",
      "0.838\t0.1\n",
      "0.840\t0.1\n",
      "0.843\t0.1\n",
      "0.847\t0.2\n",
      "0.850\t1.0\n",
      "0.854\t0.8\n",
      "0.856\t0.3\n",
      "0.858\t0.1\n",
      "0.860\t0.0\n",
      "0.862\t0.1\n",
      "0.864\t0.1\n",
      "0.866\t0.2\n",
      "0.869\t0.2\n",
      "0.872\t0.1\n",
      "0.875\t0.1\n",
      "0.878\t0.1\n",
      "0.881\t0.1\n",
      "0.884\t0.1\n",
      "0.887\t0.1\n",
      "0.890\t0.0\n",
      "0.893\t0.1\n",
      "0.896\t0.0\n",
      "0.898\t0.1\n",
      "0.901\t0.0\n",
      "0.903\t0.0\n",
      "0.907\t0.0\n",
      "0.910\t0.0\n",
      "0.913\t0.0\n",
      "0.916\t0.0\n",
      "0.919\t0.0\n",
      "0.922\t0.0\n",
      "0.925\t0.0\n",
      "0.929\t0.0\n",
      "0.932\t0.0\n",
      "0.935\t0.0\n",
      "0.938\t0.0\n",
      "0.940\t0.0\n",
      "0.941\t0.0\n",
      "0.942\t0.0\n",
      "0.944\t0.0\n",
      "0.947\t0.0\n",
      "0.950\t0.0\n",
      "0.951\t0.0\n",
      "0.952\t0.0\n",
      "0.953\t0.0\n",
      "0.955\t0.0\n",
      "0.957\t0.0\n",
      "0.959\t0.0\n",
      "0.961\t0.0\n",
      "0.963\t0.0\n",
      "0.965\t0.0\n",
      "0.968\t0.0\n",
      "0.971\t0.0\n",
      "0.973\t0.1\n",
      "0.976\t0.1\n",
      "0.978\t0.0\n",
      "0.980\t0.1\n",
      "0.982\t0.1\n",
      "0.983\t0.0\n",
      "0.984\t0.0\n",
      "0.986\t0.1\n",
      "0.987\t0.0\n",
      "0.989\t0.1\n",
      "0.991\t0.1\n",
      "0.993\t0.1\n",
      "0.995\t0.1\n",
      "0.998\t0.1\n",
      "1.001\t0.1\n",
      "1.004\t0.2\n",
      "1.007\t0.2\n",
      "1.010\t0.1\n",
      "1.013\t0.1\n",
      "1.015\t0.1\n",
      "1.018\t0.1\n",
      "1.021\t0.1\n",
      "1.023\t0.1\n",
      "1.026\t0.1\n",
      "1.028\t0.2\n",
      "1.030\t0.3\n",
      "1.032\t0.3\n",
      "1.034\t0.3\n",
      "1.036\t0.4\n",
      "1.038\t0.4\n",
      "1.040\t0.4\n",
      "1.042\t0.5\n",
      "1.044\t0.5\n",
      "1.047\t0.5\n",
      "1.050\t0.6\n",
      "1.053\t0.7\n",
      "1.055\t0.7\n",
      "1.057\t0.8\n",
      "1.058\t0.9\n",
      "1.060\t1.0\n",
      "1.062\t1.2\n",
      "1.065\t1.3\n",
      "1.068\t1.4\n",
      "1.070\t1.3\n",
      "1.072\t1.3\n",
      "1.074\t1.3\n",
      "1.077\t1.4\n",
      "1.079\t1.6\n",
      "1.081\t1.8\n",
      "1.084\t2.1\n",
      "1.086\t2.4\n",
      "1.088\t2.7\n",
      "1.089\t3.2\n",
      "1.091\t3.8\n",
      "1.093\t4.5\n",
      "1.096\t5.4\n",
      "1.098\t6.7\n",
      "1.101\t8.8\n",
      "1.104\t13.1\n",
      "1.107\t97.1\n",
      "1.112\t97.0\n",
      "1.117\t97.0\n",
      "1.122\t45.6\n",
      "1.125\t11.9\n",
      "1.129\t9.1\n",
      "1.131\t7.6\n",
      "1.133\t7.0\n",
      "1.134\t6.3\n",
      "1.136\t5.9\n",
      "1.138\t5.3\n",
      "1.140\t4.8\n",
      "1.142\t4.2\n",
      "1.144\t3.5\n",
      "1.147\t3.0\n",
      "1.149\t2.6\n",
      "1.152\t2.2\n",
      "1.156\t2.1\n",
      "1.159\t1.8\n",
      "1.162\t1.7\n",
      "1.165\t1.5\n",
      "1.167\t1.4\n",
      "1.170\t1.2\n",
      "1.172\t1.2\n",
      "1.174\t0.9\n",
      "1.177\t0.8\n",
      "1.179\t0.6\n",
      "1.182\t0.4\n",
      "1.184\t0.3\n",
      "1.187\t0.3\n",
      "1.190\t0.2\n",
      "1.192\t0.2\n",
      "1.193\t0.2\n",
      "1.194\t0.2\n",
      "1.194\t0.2\n",
      "1.196\t0.2\n",
      "1.198\t0.2\n",
      "1.201\t0.1\n",
      "1.204\t0.1\n",
      "1.207\t0.1\n",
      "1.211\t0.1\n",
      "1.215\t0.1\n",
      "1.218\t0.0\n",
      "1.222\t0.1\n",
      "1.226\t0.0\n",
      "1.229\t0.0\n",
      "1.231\t-0.1\n",
      "1.234\t0.0\n",
      "1.237\t-0.1\n",
      "1.240\t0.0\n",
      "1.244\t0.0\n",
      "1.247\t0.0\n",
      "1.250\t0.0\n",
      "1.253\t0.0\n",
      "1.255\t0.0\n",
      "1.257\t0.0\n",
      "1.260\t0.0\n",
      "1.263\t0.0\n",
      "1.265\t0.0\n",
      "1.266\t0.0\n",
      "1.268\t0.0\n",
      "1.269\t0.0\n",
      "1.270\t0.0\n",
      "1.271\t0.0\n",
      "1.273\t0.0\n",
      "1.275\t0.0\n",
      "1.277\t0.0\n",
      "1.278\t0.0\n",
      "1.280\t0.0\n",
      "1.281\t0.0\n",
      "1.283\t0.0\n",
      "1.285\t0.0\n",
      "1.286\t0.0\n",
      "1.287\t0.0\n",
      "1.287\t0.0\n",
      "1.288\t-0.1\n",
      "1.289\t-0.1\n",
      "1.290\t-0.1\n",
      "1.291\t-0.2\n",
      "1.292\t-0.2\n",
      "1.292\t-0.2\n",
      "1.293\t-0.1\n",
      "1.294\t0.0\n",
      "1.295\t0.0\n",
      "1.296\t-0.1\n",
      "1.297\t-0.1\n",
      "1.298\t-0.1\n",
      "1.299\t0.0\n",
      "1.300\t0.0\n",
      "1.301\t0.0\n",
      "1.302\t-0.1\n",
      "1.303\t-0.1\n",
      "1.304\t0.0\n",
      "1.306\t-0.1\n",
      "1.306\t-0.1\n",
      "1.308\t-0.1\n",
      "1.309\t-0.1\n",
      "1.311\t-0.2\n",
      "1.312\t-0.2\n",
      "1.313\t-0.2\n",
      "1.314\t-0.1\n",
      "1.316\t0.0\n",
      "1.317\t0.0\n",
      "1.318\t-0.1\n",
      "1.319\t-0.1\n",
      "1.319\t0.0\n",
      "1.320\t0.0\n",
      "1.322\t-0.1\n",
      "1.323\t-0.1\n",
      "1.325\t-0.1\n",
      "1.327\t-0.1\n",
      "1.329\t0.0\n",
      "1.332\t-0.1\n",
      "1.334\t-0.1\n",
      "1.335\t-0.1\n",
      "1.336\t-0.1\n",
      "1.338\t-0.1\n",
      "1.340\t0.0\n",
      "1.341\t-0.1\n",
      "1.343\t0.0\n",
      "1.344\t-0.1\n",
      "1.345\t-0.2\n",
      "1.347\t0.0\n",
      "1.348\t0.0\n",
      "1.349\t0.0\n",
      "1.351\t0.0\n",
      "1.352\t0.0\n",
      "1.353\t0.0\n",
      "1.354\t0.0\n",
      "1.356\t0.0\n",
      "1.358\t0.0\n",
      "1.359\t0.0\n",
      "1.361\t0.0\n",
      "1.363\t0.0\n",
      "1.366\t0.1\n",
      "1.368\t0.1\n",
      "1.369\t0.0\n",
      "1.370\t0.0\n",
      "1.371\t0.0\n",
      "1.372\t0.0\n",
      "1.373\t0.0\n",
      "1.374\t0.0\n",
      "1.376\t0.0\n",
      "1.378\t0.1\n",
      "1.380\t0.3\n",
      "1.380\t0.5\n",
      "1.380\t0.5\n",
      "1.382\t0.4\n",
      "1.384\t0.3\n",
      "1.386\t0.1\n",
      "1.386\t0.0\n",
      "1.386\t0.0\n",
      "1.388\t0.0\n",
      "1.389\t-0.1\n",
      "1.389\t0.0\n",
      "1.389\t-0.1\n",
      "1.389\t-0.1\n",
      "1.389\t-0.2\n",
      "1.390\t0.0\n",
      "1.391\t0.0\n",
      "1.393\t0.0\n",
      "1.396\t0.0\n",
      "1.398\t0.0\n",
      "1.400\t0.0\n",
      "1.401\t0.0\n",
      "1.402\t0.0\n",
      "1.404\t0.0\n",
      "1.405\t0.0\n",
      "1.406\t0.1\n",
      "1.408\t0.7\n",
      "1.409\t2.0\n",
      "1.411\t3.2\n",
      "1.413\t3.8\n",
      "1.415\t2.4\n",
      "1.418\t0.7\n",
      "1.420\t0.1\n",
      "1.423\t0.0\n",
      "1.425\t0.0\n",
      "1.428\t0.0\n",
      "1.430\t0.0\n",
      "1.432\t0.0\n",
      "1.433\t0.0\n",
      "1.435\t0.0\n",
      "1.436\t-0.1\n",
      "1.437\t-0.1\n",
      "1.439\t-0.2\n",
      "1.441\t0.0\n",
      "1.443\t0.0\n",
      "1.445\t0.0\n",
      "1.448\t0.0\n",
      "1.449\t0.0\n",
      "1.451\t0.0\n",
      "1.453\t0.0\n",
      "1.454\t0.0\n",
      "1.456\t0.0\n",
      "1.457\t0.0\n",
      "1.459\t0.0\n",
      "1.461\t0.0\n",
      "1.463\t0.0\n",
      "1.465\t-0.1\n",
      "1.467\t-0.1\n",
      "1.468\t-0.1\n",
      "1.470\t0.0\n",
      "1.472\t0.0\n",
      "1.473\t0.0\n",
      "1.476\t0.0\n",
      "1.478\t0.0\n",
      "1.480\t0.0\n",
      "1.483\t0.0\n",
      "1.486\t0.0\n",
      "1.489\t0.0\n",
      "1.492\t0.0\n",
      "1.495\t0.0\n",
      "1.499\t0.0\n",
      "1.502\t0.1\n",
      "1.507\t0.1\n",
      "1.510\t0.2\n",
      "1.513\t0.3\n",
      "1.515\t0.5\n",
      "1.518\t5.8\n",
      "1.521\t28.1\n",
      "1.525\t36.1\n",
      "1.528\t10.0\n",
      "1.531\t1.3\n",
      "1.533\t0.4\n",
      "1.535\t0.3\n",
      "1.537\t0.2\n",
      "1.540\t0.2\n",
      "1.543\t0.1\n",
      "1.546\t0.1\n",
      "1.550\t0.0\n",
      "1.553\t0.0\n",
      "1.556\t-0.1\n",
      "1.559\t-0.1\n",
      "1.562\t0.0\n",
      "1.565\t0.0\n",
      "1.569\t0.0\n",
      "1.572\t0.0\n",
      "1.575\t0.0\n",
      "1.577\t0.0\n",
      "1.581\t-0.2\n",
      "1.585\t-0.2\n",
      "1.589\t-0.1\n",
      "1.593\t0.0\n",
      "1.596\t-0.1\n",
      "1.597\t-0.1\n",
      "1.598\t-0.1\n",
      "1.599\t-0.1\n",
      "1.601\t-0.1\n",
      "1.602\t0.0\n",
      "1.603\t0.0\n",
      "1.606\t0.0\n",
      "1.611\t-0.2\n",
      "1.616\t-0.3\n",
      "1.623\t-0.2\n",
      "1.628\t-0.1\n",
      "1.633\t-0.1\n",
      "1.639\t-0.1\n",
      "1.644\t-0.1\n",
      "1.649\t-0.1\n",
      "1.654\t0.0\n",
      "1.658\t-0.1\n",
      "1.663\t-0.1\n",
      "1.667\t-0.1\n",
      "1.671\t-0.1\n",
      "1.675\t-0.1\n",
      "1.679\t-0.3\n",
      "1.684\t-0.2\n",
      "1.688\t-0.1\n",
      "1.693\t-0.1\n",
      "1.696\t-0.1\n",
      "1.700\t-0.1\n",
      "1.704\t-0.1\n",
      "1.707\t-0.1\n",
      "1.710\t-0.1\n",
      "1.712\t-0.1\n",
      "1.714\t-0.1\n",
      "1.717\t-0.1\n",
      "1.721\t-0.1\n",
      "1.726\t-0.1\n",
      "1.731\t-0.1\n",
      "1.734\t-0.1\n",
      "1.737\t-0.1\n",
      "1.739\t-0.1\n",
      "1.742\t-0.1\n",
      "1.745\t0.0\n",
      "1.749\t0.2\n",
      "1.752\t0.1\n",
      "1.756\t-0.1\n",
      "1.759\t-0.1\n",
      "1.762\t-0.1\n",
      "1.767\t-0.1\n",
      "1.772\t-0.3\n",
      "1.777\t-0.3\n",
      "1.783\t-0.2\n",
      "1.787\t-0.1\n",
      "1.792\t-0.2\n",
      "1.796\t-0.3\n",
      "1.800\t-0.2\n",
      "1.803\t-0.2\n",
      "1.808\t-0.2\n",
      "1.812\t-0.2\n",
      "1.818\t-0.1\n",
      "1.823\t-0.1\n",
      "1.828\t-0.1\n",
      "1.835\t-0.1\n",
      "1.844\t-0.1\n",
      "1.852\t-0.2\n",
      "1.859\t-0.1\n",
      "1.865\t-0.2\n",
      "1.870\t-0.1\n",
      "1.873\t-0.2\n",
      "1.874\t-0.2\n",
      "1.875\t-0.2\n",
      "1.877\t-0.2\n",
      "1.880\t-0.2\n",
      "1.883\t-0.2\n",
      "1.887\t-0.2\n",
      "1.892\t-0.3\n",
      "1.895\t-0.3\n",
      "1.898\t-0.2\n",
      "1.903\t-0.2\n",
      "1.907\t-0.2\n",
      "1.912\t-0.1\n",
      "1.918\t-0.1\n",
      "1.923\t-0.2\n",
      "1.929\t-0.2\n",
      "1.934\t-0.1\n",
      "1.940\t-0.1\n",
      "1.944\t-0.2\n",
      "1.948\t-0.2\n",
      "1.952\t-0.2\n",
      "1.955\t-0.2\n",
      "1.960\t-0.2\n",
      "1.966\t-0.2\n",
      "1.971\t-0.2\n",
      "1.975\t-0.1\n",
      "1.979\t-0.2\n",
      "1.985\t-0.3\n",
      "1.990\t-0.2\n",
      "1.997\t-0.1\n",
      "2.002\t-0.1\n",
      "2.007\t-0.2\n",
      "2.012\t-0.1\n",
      "2.017\t-0.2\n",
      "2.022\t-0.1\n",
      "2.027\t-0.2\n",
      "2.034\t-0.1\n",
      "2.041\t-0.1\n",
      "2.048\t1.1\n",
      "2.053\t1.6\n",
      "2.057\t0.7\n",
      "2.060\t0.1\n",
      "2.064\t0.0\n",
      "2.068\t-0.1\n",
      "2.073\t-0.1\n",
      "2.079\t-0.1\n",
      "2.086\t-0.1\n",
      "2.094\t-0.1\n",
      "2.100\t-0.2\n",
      "2.105\t-0.1\n",
      "2.109\t-0.1\n",
      "2.111\t-0.1\n",
      "2.115\t-0.2\n",
      "2.120\t-0.2\n",
      "2.124\t-0.1\n",
      "2.128\t-0.2\n",
      "2.131\t-0.1\n",
      "2.134\t-0.2\n",
      "2.135\t-0.1\n",
      "2.138\t-0.1\n",
      "2.140\t-0.1\n",
      "2.144\t-0.1\n",
      "2.148\t-0.1\n",
      "2.153\t-0.2\n",
      "2.158\t-0.2\n",
      "2.162\t-0.2\n",
      "2.166\t-0.2\n",
      "2.170\t-0.2\n",
      "2.175\t-0.2\n",
      "2.179\t-0.2\n",
      "2.183\t-0.1\n",
      "2.187\t-0.2\n",
      "2.191\t-0.2\n",
      "2.194\t-0.2\n",
      "2.197\t-0.2\n",
      "2.200\t-0.2\n",
      "2.203\t-0.2\n",
      "2.207\t-0.2\n",
      "2.211\t-0.1\n",
      "2.215\t-0.2\n",
      "2.219\t-0.2\n",
      "2.222\t-0.1\n",
      "2.224\t-0.2\n",
      "2.225\t-0.2\n",
      "2.225\t-0.2\n",
      "2.225\t-0.2\n",
      "2.225\t-0.3\n",
      "2.225\t-0.2\n",
      "2.225\t-0.3\n",
      "2.225\t-0.3\n",
      "2.225\t-0.3\n",
      "2.225\t-0.2\n",
      "2.225\t-0.1\n",
      "2.225\t-0.1\n",
      "2.225\t-0.1\n",
      "2.225\t-0.1\n",
      "2.225\t-0.1\n",
      "2.225\t-0.1\n",
      "2.225\t-0.2\n",
      "2.225\t-0.1\n",
      "2.225\t-0.1\n",
      "2.225\t-0.2\n",
      "2.225\t-0.1\n",
      "2.225\t-0.1\n",
      "2.225\t-0.1\n",
      "2.225\t-0.2\n",
      "2.225\t-0.2\n",
      "2.225\t-0.2\n",
      "2.225\t-0.1\n",
      "2.225\t-0.1\n",
      "2.225\t-0.2\n",
      "2.224\t-0.2\n",
      "2.224\t-0.2\n",
      "2.224\t-0.2\n",
      "2.224\t-0.2\n",
      "2.224\t-0.2\n",
      "2.224\t-0.2\n",
      "2.224\t-0.2\n",
      "2.224\t-0.3\n",
      "2.224\t-0.3\n",
      "2.224\t-0.2\n",
      "2.224\t-0.3\n",
      "2.224\t-0.3\n",
      "2.224\t-0.2\n",
      "2.224\t-0.3\n",
      "2.224\t-0.3\n",
      "2.224\t-0.3\n",
      "2.224\t-0.1\n",
      "2.224\t-0.2\n",
      "2.224\t-0.2\n",
      "2.224\t-0.2\n",
      "2.224\t-0.1\n",
      "2.224\t-0.1\n",
      "2.224\t-0.2\n",
      "2.224\t-0.2\n",
      "2.224\t-0.2\n",
      "2.224\t-0.2\n",
      "2.224\t-0.1\n",
      "2.224\t-0.1\n",
      "2.224\t-0.2\n",
      "2.224\t-0.2\n",
      "2.224\t-0.2\n",
      "2.224\t-0.2\n",
      "2.224\t-0.3\n",
      "2.224\t-0.2\n",
      "2.224\t-0.1\n",
      "2.224\t-0.1\n",
      "2.224\t-0.2\n",
      "2.224\t-0.2\n",
      "2.224\t-0.2\n",
      "2.224\t-0.2\n",
      "2.224\t-0.1\n",
      "2.224\t-0.2\n",
      "2.224\t-0.2\n",
      "2.224\t-0.2\n",
      "2.224\t-0.1\n",
      "2.224\t-0.2\n",
      "2.224\t-0.1\n",
      "2.224\t-0.2\n",
      "2.224\t-0.2\n",
      "2.224\t-0.2\n",
      "2.224\t-0.2\n",
      "2.224\t-0.2\n",
      "2.224\t-0.2\n",
      "2.224\t-0.2\n",
      "2.224\t-0.2\n",
      "2.224\t-0.2\n",
      "2.224\t-0.2\n",
      "2.224\t-0.2\n",
      "2.224\t-0.2\n",
      "2.224\t-0.2\n",
      "2.224\t-0.2\n",
      "2.224\t-0.2\n",
      "2.224\t-0.2\n",
      "2.224\t-0.3\n",
      "2.224\t-0.3\n",
      "2.224\t-0.3\n",
      "2.224\t-0.3\n",
      "2.224\t-0.3\n",
      "\n"
     ]
    }
   ],
   "source": [
    "with open('spectrum-01.txt', 'r') as file:\n",
    "    file_content = file.read()\n",
    "\n",
    "print(file_content)"
   ]
  },
  {
   "cell_type": "code",
   "execution_count": 57,
   "id": "3ca19acb",
   "metadata": {},
   "outputs": [],
   "source": [
    "text = '\\'\\n\\\\\\\"'\n",
    "\n",
    "'''\n",
    "should see:\n",
    "\n",
    "'\n",
    "\\\"\n",
    "'''\n",
    "with open('my-text-once.txt', 'w') as file:\n",
    "    file.write(text)"
   ]
  },
  {
   "cell_type": "markdown",
   "id": "c557b2e2",
   "metadata": {},
   "source": [
    "## 2 Playing with the OS"
   ]
  },
  {
   "cell_type": "markdown",
   "id": "bb79ea4f",
   "metadata": {},
   "source": [
    "### 2.1 Some packages"
   ]
  },
  {
   "cell_type": "code",
   "execution_count": 1,
   "id": "2981cd3b",
   "metadata": {},
   "outputs": [],
   "source": [
    "import os #os comms\n",
    "import glob #search\n",
    "import shutil #copy"
   ]
  },
  {
   "cell_type": "markdown",
   "id": "6feb2e08",
   "metadata": {},
   "source": [
    "### 2.2 OS safe paths"
   ]
  },
  {
   "cell_type": "code",
   "execution_count": 2,
   "id": "36fed2cb",
   "metadata": {},
   "outputs": [
    {
     "name": "stdout",
     "output_type": "stream",
     "text": [
      ".\\all-data\\sg-data\\data-01.txt\n"
     ]
    }
   ],
   "source": [
    "path = os.path.join('.', 'all-data', 'sg-data', 'data-01.txt')\n",
    "print(path)"
   ]
  },
  {
   "cell_type": "markdown",
   "id": "d6e59425",
   "metadata": {},
   "source": [
    "### 2.3 Creating folders"
   ]
  },
  {
   "cell_type": "code",
   "execution_count": 3,
   "id": "540000a6",
   "metadata": {},
   "outputs": [
    {
     "name": "stdout",
     "output_type": "stream",
     "text": [
      "Creating people\\Jonh\n",
      "Creating people\\Paul\n",
      "Creating people\\Ringo\n"
     ]
    }
   ],
   "source": [
    "os.mkdir('people') #MaKe DIRectory\n",
    "\n",
    "for person in ['Jonh', 'Paul', 'Ringo']:\n",
    "    path = os.path.join('people', person)\n",
    "    print(f'Creating {path}')\n",
    "    os.mkdir(path)"
   ]
  },
  {
   "cell_type": "markdown",
   "id": "e1ef17f3",
   "metadata": {},
   "source": [
    "### 2.4 Checking for existence"
   ]
  },
  {
   "cell_type": "code",
   "execution_count": 4,
   "id": "60b5c042",
   "metadata": {},
   "outputs": [
    {
     "name": "stdout",
     "output_type": "stream",
     "text": [
      "people\\Jonh already exists; skipping creation.\n",
      "people\\Paul already exists; skipping creation.\n",
      "people\\Ringo already exists; skipping creation.\n"
     ]
    }
   ],
   "source": [
    "for person in ['Jonh', 'Paul', 'Ringo']:\n",
    "    path = os.path.join('people', person)\n",
    "    try:\n",
    "        os.mkdir(path)\n",
    "        print(f'Creating {path}')\n",
    "    except FileExistsError:\n",
    "        print(f'{path} already exists; skipping creation.')"
   ]
  },
  {
   "cell_type": "code",
   "execution_count": 5,
   "id": "305b7ada",
   "metadata": {},
   "outputs": [
    {
     "name": "stdout",
     "output_type": "stream",
     "text": [
      "people\\Jonh already exists; skipping creation.\n",
      "people\\Paul already exists; skipping creation.\n",
      "people\\Ringo already exists; skipping creation.\n"
     ]
    }
   ],
   "source": [
    "for person in ['Jonh', 'Paul', 'Ringo']:\n",
    "    path = os.path.join('people', person)\n",
    "    if os.path.exists(path):\n",
    "        print(f'{path} already exists; skipping creation.')\n",
    "    else:\n",
    "        os.mkdir(path)\n",
    "        print(f'Creating {path}')"
   ]
  },
  {
   "cell_type": "markdown",
   "id": "d9a63f9b",
   "metadata": {},
   "source": [
    "### 2.5 Copying files"
   ]
  },
  {
   "cell_type": "code",
   "execution_count": 9,
   "id": "58c720c8",
   "metadata": {},
   "outputs": [
    {
     "name": "stdout",
     "output_type": "stream",
     "text": [
      "Copied file to people\\Jonh\n",
      "Copied file to people\\Paul\n",
      "Copied file to people\\Ringo\n"
     ]
    }
   ],
   "source": [
    "for person in ['Jonh', 'Paul', 'Ringo']:\n",
    "    path_to_destination = os.path.join('people', person)\n",
    "    shutil.copy('sp2273_logo.png', path_to_destination)\n",
    "    print(f'Copied file to {path_to_destination}')"
   ]
  },
  {
   "cell_type": "code",
   "execution_count": 10,
   "id": "5f359530",
   "metadata": {},
   "outputs": [
    {
     "name": "stdout",
     "output_type": "stream",
     "text": [
      "Moved logo to people\\Jonh\\imgs\\sp2273_logo.png\n",
      "Moved logo to people\\Paul\\imgs\\sp2273_logo.png\n",
      "Moved logo to people\\Ringo\\imgs\\sp2273_logo.png\n"
     ]
    }
   ],
   "source": [
    "for person in ['Jonh', 'Paul', 'Ringo']:\n",
    "    # Create folder 'imgs'\n",
    "    path_to_imgs = os.path.join('people', person, 'imgs')\n",
    "    if not os.path.exists(path_to_imgs):\n",
    "        os.mkdir(path_to_imgs)\n",
    "\n",
    "    # Move logo file\n",
    "    source_path = os.path.join('people', person, 'sp2273_logo.png')\n",
    "    dest_path = os.path.join('people', person, 'imgs', 'sp2273_logo.png')\n",
    "\n",
    "    shutil.move(source_path, dest_path)\n",
    "    print(f'Moved logo to {dest_path}')"
   ]
  },
  {
   "cell_type": "markdown",
   "id": "5a9e333e",
   "metadata": {},
   "source": [
    "### 2.6 Listing files"
   ]
  },
  {
   "cell_type": "code",
   "execution_count": 12,
   "id": "5807714d",
   "metadata": {},
   "outputs": [
    {
     "data": {
      "text/plain": [
       "['people\\\\Jonh', 'people\\\\Paul', 'people\\\\Ringo']"
      ]
     },
     "execution_count": 12,
     "metadata": {},
     "output_type": "execute_result"
    }
   ],
   "source": [
    "glob.glob('p*/*')"
   ]
  },
  {
   "cell_type": "code",
   "execution_count": 17,
   "id": "4ac1cfa9",
   "metadata": {},
   "outputs": [
    {
     "data": {
      "text/plain": [
       "['people\\\\',\n",
       " 'people\\\\Jonh',\n",
       " 'people\\\\Jonh\\\\imgs',\n",
       " 'people\\\\Jonh\\\\imgs\\\\sp2273_logo.png',\n",
       " 'people\\\\Paul',\n",
       " 'people\\\\Paul\\\\imgs',\n",
       " 'people\\\\Paul\\\\imgs\\\\sp2273_logo.png',\n",
       " 'people\\\\Ringo',\n",
       " 'people\\\\Ringo\\\\imgs',\n",
       " 'people\\\\Ringo\\\\imgs\\\\sp2273_logo.png']"
      ]
     },
     "execution_count": 17,
     "metadata": {},
     "output_type": "execute_result"
    }
   ],
   "source": [
    "glob.glob('*/**', recursive=True) #** represents any num of dirs"
   ]
  },
  {
   "cell_type": "code",
   "execution_count": 18,
   "id": "649bfb93",
   "metadata": {},
   "outputs": [
    {
     "data": {
      "text/plain": [
       "['people\\\\Jonh\\\\imgs\\\\sp2273_logo.png',\n",
       " 'people\\\\Paul\\\\imgs\\\\sp2273_logo.png',\n",
       " 'people\\\\Ringo\\\\imgs\\\\sp2273_logo.png']"
      ]
     },
     "execution_count": 18,
     "metadata": {},
     "output_type": "execute_result"
    }
   ],
   "source": [
    "glob.glob('*/**/*.png', recursive=True)"
   ]
  },
  {
   "cell_type": "markdown",
   "id": "a39b4419",
   "metadata": {},
   "source": [
    "### 2.7 Moving about"
   ]
  },
  {
   "cell_type": "code",
   "execution_count": 24,
   "id": "fcbbff49",
   "metadata": {},
   "outputs": [
    {
     "data": {
      "text/plain": [
       "'C:\\\\Users\\\\yimqi\\\\Documents\\\\GitHub\\\\learning-portfolio-yimqiy\\\\files, folders and os\\\\people\\\\Ringo'"
      ]
     },
     "execution_count": 24,
     "metadata": {},
     "output_type": "execute_result"
    }
   ],
   "source": [
    "os.chdir('people/Ringo')\n",
    "os.getcwd()"
   ]
  },
  {
   "cell_type": "code",
   "execution_count": 25,
   "id": "4b1c6849",
   "metadata": {},
   "outputs": [
    {
     "data": {
      "text/plain": [
       "'C:\\\\Users\\\\yimqi\\\\Documents\\\\GitHub\\\\learning-portfolio-yimqiy\\\\files, folders and os'"
      ]
     },
     "execution_count": 25,
     "metadata": {},
     "output_type": "execute_result"
    }
   ],
   "source": [
    "#get me back! also that is a terrible directory name\n",
    "os.chdir('../../')\n",
    "os.getcwd()"
   ]
  },
  {
   "cell_type": "markdown",
   "id": "8cb5b51b",
   "metadata": {},
   "source": [
    "### 2.8 Extracting Info"
   ]
  },
  {
   "cell_type": "code",
   "execution_count": 31,
   "id": "1312a8aa",
   "metadata": {},
   "outputs": [
    {
     "name": "stdout",
     "output_type": "stream",
     "text": [
      "people/Ringo/imgs/sp2273_logo.png png\n"
     ]
    }
   ],
   "source": [
    "path = 'people/Ringo/imgs/sp2273_logo.png'\n",
    "filename = path.split(os.path.sep)[-1]\n",
    "extension = filename.split('.')[-1]\n",
    "print(filename, extension)"
   ]
  },
  {
   "cell_type": "code",
   "execution_count": 27,
   "id": "a9e6a045",
   "metadata": {},
   "outputs": [
    {
     "data": {
      "text/plain": [
       "('people/Ringo/imgs', 'sp2273_logo.png')"
      ]
     },
     "execution_count": 27,
     "metadata": {},
     "output_type": "execute_result"
    }
   ],
   "source": [
    "os.path.split(path)"
   ]
  },
  {
   "cell_type": "code",
   "execution_count": 28,
   "id": "4dce09cb",
   "metadata": {},
   "outputs": [
    {
     "data": {
      "text/plain": [
       "('people/Ringo/imgs/sp2273_logo', '.png')"
      ]
     },
     "execution_count": 28,
     "metadata": {},
     "output_type": "execute_result"
    }
   ],
   "source": [
    "os.path.splitext(path)"
   ]
  },
  {
   "cell_type": "code",
   "execution_count": 29,
   "id": "e22931f9",
   "metadata": {},
   "outputs": [
    {
     "data": {
      "text/plain": [
       "'people/Ringo/imgs'"
      ]
     },
     "execution_count": 29,
     "metadata": {},
     "output_type": "execute_result"
    }
   ],
   "source": [
    "os.path.dirname(path)"
   ]
  },
  {
   "cell_type": "markdown",
   "id": "2de1f303",
   "metadata": {},
   "source": [
    "### 2.9 Deleting stuff"
   ]
  },
  {
   "cell_type": "code",
   "execution_count": 30,
   "id": "770187fd",
   "metadata": {},
   "outputs": [],
   "source": [
    "os.remove('people/Ringo/imgs/sp2273_logo.png')"
   ]
  },
  {
   "cell_type": "code",
   "execution_count": 32,
   "id": "0106a20e",
   "metadata": {},
   "outputs": [
    {
     "ename": "OSError",
     "evalue": "[WinError 145] The directory is not empty: 'people/Ringo'",
     "output_type": "error",
     "traceback": [
      "\u001b[1;31m---------------------------------------------------------------------------\u001b[0m",
      "\u001b[1;31mOSError\u001b[0m                                   Traceback (most recent call last)",
      "\u001b[1;32m~\\AppData\\Local\\Temp/ipykernel_110568/54532714.py\u001b[0m in \u001b[0;36m<module>\u001b[1;34m\u001b[0m\n\u001b[1;32m----> 1\u001b[1;33m \u001b[0mos\u001b[0m\u001b[1;33m.\u001b[0m\u001b[0mrmdir\u001b[0m\u001b[1;33m(\u001b[0m\u001b[1;34m'people/Ringo'\u001b[0m\u001b[1;33m)\u001b[0m\u001b[1;33m\u001b[0m\u001b[1;33m\u001b[0m\u001b[0m\n\u001b[0m",
      "\u001b[1;31mOSError\u001b[0m: [WinError 145] The directory is not empty: 'people/Ringo'"
     ]
    }
   ],
   "source": [
    "os.rmdir('people/Ringo')"
   ]
  },
  {
   "cell_type": "code",
   "execution_count": 33,
   "id": "6df41a9d",
   "metadata": {},
   "outputs": [],
   "source": [
    "shutil.rmtree('people/Ringo')"
   ]
  },
  {
   "cell_type": "code",
   "execution_count": 36,
   "id": "49144098",
   "metadata": {},
   "outputs": [
    {
     "data": {
      "text/plain": [
       "['people\\\\',\n",
       " 'people\\\\Jonh\\\\',\n",
       " 'people\\\\Jonh\\\\imgs\\\\',\n",
       " 'people\\\\Paul\\\\',\n",
       " 'people\\\\Paul\\\\imgs\\\\']"
      ]
     },
     "execution_count": 36,
     "metadata": {},
     "output_type": "execute_result"
    }
   ],
   "source": [
    "glob.glob('*/**/', recursive=True)"
   ]
  },
  {
   "cell_type": "markdown",
   "id": "1081c5e7",
   "metadata": {},
   "source": [
    "## Exercise 1 :  The OS is my oyster"
   ]
  },
  {
   "cell_type": "code",
   "execution_count": 37,
   "id": "3503afd6",
   "metadata": {},
   "outputs": [
    {
     "data": {
      "text/plain": [
       "'C:\\\\Users\\\\yimqi\\\\Documents\\\\GitHub\\\\learning-portfolio-yimqiy\\\\files, folders and os'"
      ]
     },
     "execution_count": 37,
     "metadata": {},
     "output_type": "execute_result"
    }
   ],
   "source": [
    "os.getcwd()"
   ]
  },
  {
   "cell_type": "code",
   "execution_count": 40,
   "id": "d16856aa",
   "metadata": {},
   "outputs": [
    {
     "data": {
      "text/plain": [
       "'C:\\\\Users\\\\yimqi\\\\Documents\\\\GitHub\\\\learning-portfolio-yimqiy\\\\files, folders and os\\\\python_today'"
      ]
     },
     "execution_count": 40,
     "metadata": {},
     "output_type": "execute_result"
    }
   ],
   "source": [
    "os.mkdir('python_today')\n",
    "os.chdir('python_today')\n",
    "os.getcwd()"
   ]
  },
  {
   "cell_type": "code",
   "execution_count": 64,
   "id": "e9976ecd",
   "metadata": {},
   "outputs": [],
   "source": [
    "for i in range(50):\n",
    "    path = os.path.join(f'new_directory_{(i+1):02d}')\n",
    "    os.mkdir(path)"
   ]
  },
  {
   "cell_type": "code",
   "execution_count": 65,
   "id": "72e30787",
   "metadata": {},
   "outputs": [
    {
     "data": {
      "text/plain": [
       "['new_directory_02',\n",
       " 'new_directory_04',\n",
       " 'new_directory_06',\n",
       " 'new_directory_08',\n",
       " 'new_directory_10',\n",
       " 'new_directory_12',\n",
       " 'new_directory_14',\n",
       " 'new_directory_16',\n",
       " 'new_directory_18',\n",
       " 'new_directory_20',\n",
       " 'new_directory_22',\n",
       " 'new_directory_24',\n",
       " 'new_directory_26',\n",
       " 'new_directory_28',\n",
       " 'new_directory_30',\n",
       " 'new_directory_32',\n",
       " 'new_directory_34',\n",
       " 'new_directory_36',\n",
       " 'new_directory_38',\n",
       " 'new_directory_40',\n",
       " 'new_directory_42',\n",
       " 'new_directory_44',\n",
       " 'new_directory_46',\n",
       " 'new_directory_48',\n",
       " 'new_directory_50']"
      ]
     },
     "execution_count": 65,
     "metadata": {},
     "output_type": "execute_result"
    }
   ],
   "source": [
    "for i in range(25): #can be bigger\n",
    "    path = os.path.join(f'new_directory_{(2*i+1):02d}')\n",
    "    if os.path.exists(path):\n",
    "        os.rmdir(path)\n",
    "os.listdir()"
   ]
  },
  {
   "cell_type": "code",
   "execution_count": 66,
   "id": "98c755a7",
   "metadata": {},
   "outputs": [
    {
     "data": {
      "text/plain": [
       "['haha_05',\n",
       " 'haha_10',\n",
       " 'haha_15',\n",
       " 'haha_20',\n",
       " 'haha_25',\n",
       " 'haha_30',\n",
       " 'haha_35',\n",
       " 'haha_40',\n",
       " 'haha_45',\n",
       " 'haha_50',\n",
       " 'new_directory_01',\n",
       " 'new_directory_02',\n",
       " 'new_directory_03',\n",
       " 'new_directory_04',\n",
       " 'new_directory_06',\n",
       " 'new_directory_07',\n",
       " 'new_directory_08',\n",
       " 'new_directory_09',\n",
       " 'new_directory_11',\n",
       " 'new_directory_12',\n",
       " 'new_directory_13',\n",
       " 'new_directory_14',\n",
       " 'new_directory_16',\n",
       " 'new_directory_17',\n",
       " 'new_directory_18',\n",
       " 'new_directory_19',\n",
       " 'new_directory_21',\n",
       " 'new_directory_22',\n",
       " 'new_directory_23',\n",
       " 'new_directory_24',\n",
       " 'new_directory_26',\n",
       " 'new_directory_27',\n",
       " 'new_directory_28',\n",
       " 'new_directory_29',\n",
       " 'new_directory_31',\n",
       " 'new_directory_32',\n",
       " 'new_directory_33',\n",
       " 'new_directory_34',\n",
       " 'new_directory_36',\n",
       " 'new_directory_37',\n",
       " 'new_directory_38',\n",
       " 'new_directory_39',\n",
       " 'new_directory_41',\n",
       " 'new_directory_42',\n",
       " 'new_directory_43',\n",
       " 'new_directory_44',\n",
       " 'new_directory_46',\n",
       " 'new_directory_47',\n",
       " 'new_directory_48',\n",
       " 'new_directory_49']"
      ]
     },
     "execution_count": 66,
     "metadata": {},
     "output_type": "execute_result"
    }
   ],
   "source": [
    "for i in range(50):\n",
    "    path = os.path.join(f'new_directory_{(i+1):02d}')\n",
    "    if os.path.exists(path): continue\n",
    "    else: os.mkdir(path)\n",
    "for i in range(50):\n",
    "    path = os.path.join(f'new_directory_{(i*5):02d}')\n",
    "    if os.path.exists(path):\n",
    "        os.rename(path,f'haha_{(i*5):02d}')\n",
    "os.listdir()"
   ]
  },
  {
   "cell_type": "code",
   "execution_count": 77,
   "id": "8da7a22d",
   "metadata": {},
   "outputs": [
    {
     "name": "stdout",
     "output_type": "stream",
     "text": [
      "Copied file to haha_05\n",
      "Copied file to haha_10\n",
      "Copied file to haha_15\n",
      "Copied file to haha_20\n",
      "Copied file to haha_25\n",
      "Copied file to haha_30\n",
      "Copied file to haha_35\n",
      "Copied file to haha_40\n",
      "Copied file to haha_45\n",
      "Copied file to haha_50\n"
     ]
    },
    {
     "data": {
      "text/plain": [
       "['haha_05\\\\sp2273_logo.png',\n",
       " 'haha_10\\\\sp2273_logo.png',\n",
       " 'haha_15\\\\sp2273_logo.png',\n",
       " 'haha_20\\\\sp2273_logo.png',\n",
       " 'haha_25\\\\sp2273_logo.png',\n",
       " 'haha_30\\\\sp2273_logo.png',\n",
       " 'haha_35\\\\sp2273_logo.png',\n",
       " 'haha_40\\\\sp2273_logo.png',\n",
       " 'haha_45\\\\sp2273_logo.png',\n",
       " 'haha_50\\\\sp2273_logo.png']"
      ]
     },
     "execution_count": 77,
     "metadata": {},
     "output_type": "execute_result"
    }
   ],
   "source": [
    "for ipath in glob.glob('h*'):\n",
    "    path_to_destination = os.path.join(ipath)\n",
    "    shutil.copy('../sp2273_logo.png', path_to_destination)\n",
    "    print(f'Copied file to {path_to_destination}')\n",
    "    #files just overwrite lol\n",
    "glob.glob('h*/**')"
   ]
  },
  {
   "cell_type": "markdown",
   "id": "824ab186",
   "metadata": {},
   "source": [
    "## Exercise 2 :  Tidying a collaboration"
   ]
  },
  {
   "cell_type": "code",
   "execution_count": 10,
   "id": "c640e1f3",
   "metadata": {},
   "outputs": [
    {
     "name": "stdout",
     "output_type": "stream",
     "text": [
      "10-08-singapore.txt\n",
      "07-10-cairo.txt\n",
      "05-15-dhaka.txt\n",
      "05-13-cairo.txt\n",
      "10-21-cairo.txt\n",
      "01-10-singapore.txt\n",
      "06-20-tokyo.txt\n",
      "08-06-jakarta.txt\n",
      "12-21-karachi.txt\n",
      "01-01-tokyo.txt\n"
     ]
    }
   ],
   "source": [
    "month_id = {\n",
    "'jan': '01', 'feb': '02', 'mar': '03',\n",
    "'apr': '04', 'may': '05', 'jun': '06',\n",
    "'jul': '07', 'aug': '08', 'sep': '09',\n",
    "'oct': '10', 'nov': '11', 'dec': '12'\n",
    "}\n",
    "def rename_my_file(old_file_name):\n",
    "    return f\"{month_id[old_file_name[:3]]}{old_file_name[3:6]}-{old_file_name[7:]}\"\n",
    "the_files = ['oct-08_singapore.txt', 'jul-10_cairo.txt', 'may-15_dhaka.txt',\n",
    " 'may-13_cairo.txt', 'oct-21_cairo.txt', 'jan-10_singapore.txt',\n",
    " 'jun-20_tokyo.txt', 'aug-06_jakarta.txt', 'dec-21_karachi.txt',\n",
    " 'jan-01_tokyo.txt']\n",
    "for i in the_files:\n",
    "    print(rename_my_file(i)) "
   ]
  },
  {
   "cell_type": "code",
   "execution_count": 24,
   "id": "007ed050",
   "metadata": {},
   "outputs": [],
   "source": [
    "os.chdir('os-collaboration-exercise-data')"
   ]
  },
  {
   "cell_type": "code",
   "execution_count": 28,
   "id": "4d608f88",
   "metadata": {},
   "outputs": [],
   "source": [
    "for ipath in glob.glob('*.txt'):\n",
    "    path_to = os.path.join(ipath)\n",
    "    os.rename(path_to,rename_my_file(path_to))"
   ]
  },
  {
   "cell_type": "code",
   "execution_count": 46,
   "id": "c4f7612b",
   "metadata": {},
   "outputs": [],
   "source": [
    "for i in ['Cairo', 'Dhaka', 'Jakarta', 'Karachi', 'Manila',\n",
    " 'Melbourne', 'Osaka', 'Shanghai', 'Singapore', 'Tokyo']:\n",
    "    os.mkdir(i)"
   ]
  },
  {
   "cell_type": "code",
   "execution_count": 47,
   "id": "771bd969",
   "metadata": {},
   "outputs": [],
   "source": [
    "for i in ['Cairo']: #just the dir\n",
    "    for j in glob.glob('*Cairo.*'): #all files with Cairo\n",
    "        shutil.copy(j,i)"
   ]
  },
  {
   "cell_type": "code",
   "execution_count": 52,
   "id": "d1bb939a",
   "metadata": {},
   "outputs": [],
   "source": [
    "shutil.rmtree('Cairo')\n",
    "os.mkdir('Cairo')"
   ]
  },
  {
   "cell_type": "code",
   "execution_count": 53,
   "id": "3abeb223",
   "metadata": {},
   "outputs": [],
   "source": [
    "for i in ['Cairo', 'Dhaka', 'Jakarta', 'Karachi', 'Manila',\n",
    " 'Melbourne', 'Osaka', 'Shanghai', 'Singapore', 'Tokyo']: #just the dir\n",
    "    for j in glob.glob(f'*{i}.*'): #all files with that city name\n",
    "        shutil.move(j,i)"
   ]
  },
  {
   "cell_type": "code",
   "execution_count": null,
   "id": "a4b7d2e9",
   "metadata": {},
   "outputs": [],
   "source": []
  }
 ],
 "metadata": {
  "kernelspec": {
   "display_name": "Python 3 (ipykernel)",
   "language": "python",
   "name": "python3"
  },
  "language_info": {
   "codemirror_mode": {
    "name": "ipython",
    "version": 3
   },
   "file_extension": ".py",
   "mimetype": "text/x-python",
   "name": "python",
   "nbconvert_exporter": "python",
   "pygments_lexer": "ipython3",
   "version": "3.9.5"
  },
  "toc": {
   "base_numbering": 1,
   "nav_menu": {},
   "number_sections": true,
   "sideBar": true,
   "skip_h1_title": false,
   "title_cell": "Table of Contents",
   "title_sidebar": "Contents",
   "toc_cell": false,
   "toc_position": {},
   "toc_section_display": true,
   "toc_window_display": false
  },
  "varInspector": {
   "cols": {
    "lenName": 16,
    "lenType": 16,
    "lenVar": 40
   },
   "kernels_config": {
    "python": {
     "delete_cmd_postfix": "",
     "delete_cmd_prefix": "del ",
     "library": "var_list.py",
     "varRefreshCmd": "print(var_dic_list())"
    },
    "r": {
     "delete_cmd_postfix": ") ",
     "delete_cmd_prefix": "rm(",
     "library": "var_list.r",
     "varRefreshCmd": "cat(var_dic_list()) "
    }
   },
   "types_to_exclude": [
    "module",
    "function",
    "builtin_function_or_method",
    "instance",
    "_Feature"
   ],
   "window_display": false
  },
  "vscode": {
   "interpreter": {
    "hash": "31f2aee4e71d21fbe5cf8b01ff0e069b9275f58929596ceb00d14d90e3e16cd6"
   }
  }
 },
 "nbformat": 4,
 "nbformat_minor": 5
}
