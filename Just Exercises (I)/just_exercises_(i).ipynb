{
 "cells": [
  {
   "cell_type": "markdown",
   "id": "123456",
   "metadata": {},
   "source": [
    "<div style=\"text-align:left;font-size:2em\"><span style=\"font-weight:bolder;font-size:1.25em\">SP2273 | Learning Portfolio</span><br><br><span style=\"font-weight:bold;color:darkred\">Just Exercises (I)</span></div>"
   ]
  },
  {
   "cell_type": "markdown",
   "id": "f79d52cd",
   "metadata": {},
   "source": [
    "## Exercise 1 :  F-strings to the rescue"
   ]
  },
  {
   "cell_type": "code",
   "execution_count": 55,
   "id": "22d8c4e5",
   "metadata": {},
   "outputs": [
    {
     "name": "stdout",
     "output_type": "stream",
     "text": [
      "00001\n",
      "00002\n",
      "00003\n",
      "00004\n",
      "00005\n",
      "00006\n",
      "00007\n",
      "00008\n",
      "00009\n",
      "00010\n"
     ]
    }
   ],
   "source": [
    "for x in range(1,11):\n",
    "    print(f\"{x:05d}\")"
   ]
  },
  {
   "cell_type": "code",
   "execution_count": 58,
   "id": "ca02d244",
   "metadata": {},
   "outputs": [
    {
     "name": "stdout",
     "output_type": "stream",
     "text": [
      "001          +\n",
      "002         ++\n",
      "003        +++\n",
      "004       ++++\n",
      "005      +++++\n",
      "006     ++++++\n",
      "007    +++++++\n",
      "008   ++++++++\n",
      "009  +++++++++\n",
      "010 ++++++++++\n"
     ]
    }
   ],
   "source": [
    "for x in range(1,11):\n",
    "    print(f\"{x:03d} \" + \" \"*(10-x) + \"+\"*x)"
   ]
  },
  {
   "cell_type": "code",
   "execution_count": 60,
   "id": "96d7c5b5",
   "metadata": {},
   "outputs": [
    {
     "name": "stdout",
     "output_type": "stream",
     "text": [
      "001 -+++++++++\n",
      "002 --++++++++\n",
      "003 ---+++++++\n",
      "004 ----++++++\n",
      "005 -----+++++\n",
      "006 ------++++\n",
      "007 -------+++\n",
      "008 --------++\n",
      "009 ---------+\n",
      "010 ----------\n"
     ]
    }
   ],
   "source": [
    "for x in range(1,11):\n",
    "    print(f\"{x:03d} \" + \"-\"*x + \"+\"*(10-x))"
   ]
  },
  {
   "cell_type": "code",
   "execution_count": 61,
   "id": "5cb08dbf",
   "metadata": {},
   "outputs": [
    {
     "name": "stdout",
     "output_type": "stream",
     "text": [
      "['bruce_exploits.txt', 'bruce_enemies.txt', 'bruce_friends.txt', 'natasha_exploits.txt', 'natasha_enemies.txt', 'natasha_friends.txt', 'tony_exploits.txt', 'tony_enemies.txt', 'tony_friends.txt']\n"
     ]
    }
   ],
   "source": [
    "ppl = ['bruce', 'natasha', 'tony']\n",
    "info = ['exploits', 'enemies', 'friends']\n",
    "print([f\"{x}_{y}.txt\" for x in ppl for y in info])"
   ]
  },
  {
   "cell_type": "code",
   "execution_count": 62,
   "id": "0612eeaf",
   "metadata": {},
   "outputs": [
    {
     "name": "stdout",
     "output_type": "stream",
     "text": [
      "['data_sg_exp-01_trial-001.txt', 'data_sg_exp-01_trial-002.txt', 'data_sg_exp-01_trial-003.txt', 'data_sg_exp-01_trial-004.txt', 'data_sg_exp-01_trial-005.txt', 'data_sg_exp-01_trial-006.txt', 'data_sg_exp-01_trial-007.txt', 'data_sg_exp-01_trial-008.txt', 'data_sg_exp-01_trial-009.txt', 'data_sg_exp-01_trial-010.txt', 'data_sg_exp-01_trial-011.txt', 'data_sg_exp-01_trial-012.txt', 'data_sg_exp-01_trial-013.txt', 'data_sg_exp-01_trial-014.txt', 'data_sg_exp-01_trial-015.txt', 'data_sg_exp-01_trial-016.txt', 'data_sg_exp-01_trial-017.txt', 'data_sg_exp-01_trial-018.txt', 'data_sg_exp-01_trial-019.txt', 'data_sg_exp-01_trial-020.txt', 'data_sg_exp-01_trial-021.txt', 'data_sg_exp-01_trial-022.txt', 'data_sg_exp-01_trial-023.txt', 'data_sg_exp-01_trial-024.txt', 'data_sg_exp-01_trial-025.txt', 'data_sg_exp-01_trial-026.txt', 'data_sg_exp-01_trial-027.txt', 'data_sg_exp-01_trial-028.txt', 'data_sg_exp-01_trial-029.txt', 'data_sg_exp-01_trial-030.txt', 'data_sg_exp-01_trial-031.txt', 'data_sg_exp-01_trial-032.txt', 'data_sg_exp-01_trial-033.txt', 'data_sg_exp-01_trial-034.txt', 'data_sg_exp-01_trial-035.txt', 'data_sg_exp-01_trial-036.txt', 'data_sg_exp-01_trial-037.txt', 'data_sg_exp-01_trial-038.txt', 'data_sg_exp-01_trial-039.txt', 'data_sg_exp-01_trial-040.txt', 'data_sg_exp-01_trial-041.txt', 'data_sg_exp-01_trial-042.txt', 'data_sg_exp-01_trial-043.txt', 'data_sg_exp-01_trial-044.txt', 'data_sg_exp-01_trial-045.txt', 'data_sg_exp-01_trial-046.txt', 'data_sg_exp-01_trial-047.txt', 'data_sg_exp-01_trial-048.txt', 'data_sg_exp-01_trial-049.txt', 'data_sg_exp-01_trial-050.txt', 'data_sg_exp-02_trial-001.txt', 'data_sg_exp-02_trial-002.txt', 'data_sg_exp-02_trial-003.txt', 'data_sg_exp-02_trial-004.txt', 'data_sg_exp-02_trial-005.txt', 'data_sg_exp-02_trial-006.txt', 'data_sg_exp-02_trial-007.txt', 'data_sg_exp-02_trial-008.txt', 'data_sg_exp-02_trial-009.txt', 'data_sg_exp-02_trial-010.txt', 'data_sg_exp-02_trial-011.txt', 'data_sg_exp-02_trial-012.txt', 'data_sg_exp-02_trial-013.txt', 'data_sg_exp-02_trial-014.txt', 'data_sg_exp-02_trial-015.txt', 'data_sg_exp-02_trial-016.txt', 'data_sg_exp-02_trial-017.txt', 'data_sg_exp-02_trial-018.txt', 'data_sg_exp-02_trial-019.txt', 'data_sg_exp-02_trial-020.txt', 'data_sg_exp-02_trial-021.txt', 'data_sg_exp-02_trial-022.txt', 'data_sg_exp-02_trial-023.txt', 'data_sg_exp-02_trial-024.txt', 'data_sg_exp-02_trial-025.txt', 'data_sg_exp-02_trial-026.txt', 'data_sg_exp-02_trial-027.txt', 'data_sg_exp-02_trial-028.txt', 'data_sg_exp-02_trial-029.txt', 'data_sg_exp-02_trial-030.txt', 'data_sg_exp-02_trial-031.txt', 'data_sg_exp-02_trial-032.txt', 'data_sg_exp-02_trial-033.txt', 'data_sg_exp-02_trial-034.txt', 'data_sg_exp-02_trial-035.txt', 'data_sg_exp-02_trial-036.txt', 'data_sg_exp-02_trial-037.txt', 'data_sg_exp-02_trial-038.txt', 'data_sg_exp-02_trial-039.txt', 'data_sg_exp-02_trial-040.txt', 'data_sg_exp-02_trial-041.txt', 'data_sg_exp-02_trial-042.txt', 'data_sg_exp-02_trial-043.txt', 'data_sg_exp-02_trial-044.txt', 'data_sg_exp-02_trial-045.txt', 'data_sg_exp-02_trial-046.txt', 'data_sg_exp-02_trial-047.txt', 'data_sg_exp-02_trial-048.txt', 'data_sg_exp-02_trial-049.txt', 'data_sg_exp-02_trial-050.txt', 'data_sg_exp-03_trial-001.txt', 'data_sg_exp-03_trial-002.txt', 'data_sg_exp-03_trial-003.txt', 'data_sg_exp-03_trial-004.txt', 'data_sg_exp-03_trial-005.txt', 'data_sg_exp-03_trial-006.txt', 'data_sg_exp-03_trial-007.txt', 'data_sg_exp-03_trial-008.txt', 'data_sg_exp-03_trial-009.txt', 'data_sg_exp-03_trial-010.txt', 'data_sg_exp-03_trial-011.txt', 'data_sg_exp-03_trial-012.txt', 'data_sg_exp-03_trial-013.txt', 'data_sg_exp-03_trial-014.txt', 'data_sg_exp-03_trial-015.txt', 'data_sg_exp-03_trial-016.txt', 'data_sg_exp-03_trial-017.txt', 'data_sg_exp-03_trial-018.txt', 'data_sg_exp-03_trial-019.txt', 'data_sg_exp-03_trial-020.txt', 'data_sg_exp-03_trial-021.txt', 'data_sg_exp-03_trial-022.txt', 'data_sg_exp-03_trial-023.txt', 'data_sg_exp-03_trial-024.txt', 'data_sg_exp-03_trial-025.txt', 'data_sg_exp-03_trial-026.txt', 'data_sg_exp-03_trial-027.txt', 'data_sg_exp-03_trial-028.txt', 'data_sg_exp-03_trial-029.txt', 'data_sg_exp-03_trial-030.txt', 'data_sg_exp-03_trial-031.txt', 'data_sg_exp-03_trial-032.txt', 'data_sg_exp-03_trial-033.txt', 'data_sg_exp-03_trial-034.txt', 'data_sg_exp-03_trial-035.txt', 'data_sg_exp-03_trial-036.txt', 'data_sg_exp-03_trial-037.txt', 'data_sg_exp-03_trial-038.txt', 'data_sg_exp-03_trial-039.txt', 'data_sg_exp-03_trial-040.txt', 'data_sg_exp-03_trial-041.txt', 'data_sg_exp-03_trial-042.txt', 'data_sg_exp-03_trial-043.txt', 'data_sg_exp-03_trial-044.txt', 'data_sg_exp-03_trial-045.txt', 'data_sg_exp-03_trial-046.txt', 'data_sg_exp-03_trial-047.txt', 'data_sg_exp-03_trial-048.txt', 'data_sg_exp-03_trial-049.txt', 'data_sg_exp-03_trial-050.txt', 'data_gb_exp-01_trial-001.txt', 'data_gb_exp-01_trial-002.txt', 'data_gb_exp-01_trial-003.txt', 'data_gb_exp-01_trial-004.txt', 'data_gb_exp-01_trial-005.txt', 'data_gb_exp-01_trial-006.txt', 'data_gb_exp-01_trial-007.txt', 'data_gb_exp-01_trial-008.txt', 'data_gb_exp-01_trial-009.txt', 'data_gb_exp-01_trial-010.txt', 'data_gb_exp-01_trial-011.txt', 'data_gb_exp-01_trial-012.txt', 'data_gb_exp-01_trial-013.txt', 'data_gb_exp-01_trial-014.txt', 'data_gb_exp-01_trial-015.txt', 'data_gb_exp-01_trial-016.txt', 'data_gb_exp-01_trial-017.txt', 'data_gb_exp-01_trial-018.txt', 'data_gb_exp-01_trial-019.txt', 'data_gb_exp-01_trial-020.txt', 'data_gb_exp-01_trial-021.txt', 'data_gb_exp-01_trial-022.txt', 'data_gb_exp-01_trial-023.txt', 'data_gb_exp-01_trial-024.txt', 'data_gb_exp-01_trial-025.txt', 'data_gb_exp-01_trial-026.txt', 'data_gb_exp-01_trial-027.txt', 'data_gb_exp-01_trial-028.txt', 'data_gb_exp-01_trial-029.txt', 'data_gb_exp-01_trial-030.txt', 'data_gb_exp-01_trial-031.txt', 'data_gb_exp-01_trial-032.txt', 'data_gb_exp-01_trial-033.txt', 'data_gb_exp-01_trial-034.txt', 'data_gb_exp-01_trial-035.txt', 'data_gb_exp-01_trial-036.txt', 'data_gb_exp-01_trial-037.txt', 'data_gb_exp-01_trial-038.txt', 'data_gb_exp-01_trial-039.txt', 'data_gb_exp-01_trial-040.txt', 'data_gb_exp-01_trial-041.txt', 'data_gb_exp-01_trial-042.txt', 'data_gb_exp-01_trial-043.txt', 'data_gb_exp-01_trial-044.txt', 'data_gb_exp-01_trial-045.txt', 'data_gb_exp-01_trial-046.txt', 'data_gb_exp-01_trial-047.txt', 'data_gb_exp-01_trial-048.txt', 'data_gb_exp-01_trial-049.txt', 'data_gb_exp-01_trial-050.txt', 'data_gb_exp-02_trial-001.txt', 'data_gb_exp-02_trial-002.txt', 'data_gb_exp-02_trial-003.txt', 'data_gb_exp-02_trial-004.txt', 'data_gb_exp-02_trial-005.txt', 'data_gb_exp-02_trial-006.txt', 'data_gb_exp-02_trial-007.txt', 'data_gb_exp-02_trial-008.txt', 'data_gb_exp-02_trial-009.txt', 'data_gb_exp-02_trial-010.txt', 'data_gb_exp-02_trial-011.txt', 'data_gb_exp-02_trial-012.txt', 'data_gb_exp-02_trial-013.txt', 'data_gb_exp-02_trial-014.txt', 'data_gb_exp-02_trial-015.txt', 'data_gb_exp-02_trial-016.txt', 'data_gb_exp-02_trial-017.txt', 'data_gb_exp-02_trial-018.txt', 'data_gb_exp-02_trial-019.txt', 'data_gb_exp-02_trial-020.txt', 'data_gb_exp-02_trial-021.txt', 'data_gb_exp-02_trial-022.txt', 'data_gb_exp-02_trial-023.txt', 'data_gb_exp-02_trial-024.txt', 'data_gb_exp-02_trial-025.txt', 'data_gb_exp-02_trial-026.txt', 'data_gb_exp-02_trial-027.txt', 'data_gb_exp-02_trial-028.txt', 'data_gb_exp-02_trial-029.txt', 'data_gb_exp-02_trial-030.txt', 'data_gb_exp-02_trial-031.txt', 'data_gb_exp-02_trial-032.txt', 'data_gb_exp-02_trial-033.txt', 'data_gb_exp-02_trial-034.txt', 'data_gb_exp-02_trial-035.txt', 'data_gb_exp-02_trial-036.txt', 'data_gb_exp-02_trial-037.txt', 'data_gb_exp-02_trial-038.txt', 'data_gb_exp-02_trial-039.txt', 'data_gb_exp-02_trial-040.txt', 'data_gb_exp-02_trial-041.txt', 'data_gb_exp-02_trial-042.txt', 'data_gb_exp-02_trial-043.txt', 'data_gb_exp-02_trial-044.txt', 'data_gb_exp-02_trial-045.txt', 'data_gb_exp-02_trial-046.txt', 'data_gb_exp-02_trial-047.txt', 'data_gb_exp-02_trial-048.txt', 'data_gb_exp-02_trial-049.txt', 'data_gb_exp-02_trial-050.txt', 'data_gb_exp-03_trial-001.txt', 'data_gb_exp-03_trial-002.txt', 'data_gb_exp-03_trial-003.txt', 'data_gb_exp-03_trial-004.txt', 'data_gb_exp-03_trial-005.txt', 'data_gb_exp-03_trial-006.txt', 'data_gb_exp-03_trial-007.txt', 'data_gb_exp-03_trial-008.txt', 'data_gb_exp-03_trial-009.txt', 'data_gb_exp-03_trial-010.txt', 'data_gb_exp-03_trial-011.txt', 'data_gb_exp-03_trial-012.txt', 'data_gb_exp-03_trial-013.txt', 'data_gb_exp-03_trial-014.txt', 'data_gb_exp-03_trial-015.txt', 'data_gb_exp-03_trial-016.txt', 'data_gb_exp-03_trial-017.txt', 'data_gb_exp-03_trial-018.txt', 'data_gb_exp-03_trial-019.txt', 'data_gb_exp-03_trial-020.txt', 'data_gb_exp-03_trial-021.txt', 'data_gb_exp-03_trial-022.txt', 'data_gb_exp-03_trial-023.txt', 'data_gb_exp-03_trial-024.txt', 'data_gb_exp-03_trial-025.txt', 'data_gb_exp-03_trial-026.txt', 'data_gb_exp-03_trial-027.txt', 'data_gb_exp-03_trial-028.txt', 'data_gb_exp-03_trial-029.txt', 'data_gb_exp-03_trial-030.txt', 'data_gb_exp-03_trial-031.txt', 'data_gb_exp-03_trial-032.txt', 'data_gb_exp-03_trial-033.txt', 'data_gb_exp-03_trial-034.txt', 'data_gb_exp-03_trial-035.txt', 'data_gb_exp-03_trial-036.txt', 'data_gb_exp-03_trial-037.txt', 'data_gb_exp-03_trial-038.txt', 'data_gb_exp-03_trial-039.txt', 'data_gb_exp-03_trial-040.txt', 'data_gb_exp-03_trial-041.txt', 'data_gb_exp-03_trial-042.txt', 'data_gb_exp-03_trial-043.txt', 'data_gb_exp-03_trial-044.txt', 'data_gb_exp-03_trial-045.txt', 'data_gb_exp-03_trial-046.txt', 'data_gb_exp-03_trial-047.txt', 'data_gb_exp-03_trial-048.txt', 'data_gb_exp-03_trial-049.txt', 'data_gb_exp-03_trial-050.txt', 'data_us_exp-01_trial-001.txt', 'data_us_exp-01_trial-002.txt', 'data_us_exp-01_trial-003.txt', 'data_us_exp-01_trial-004.txt', 'data_us_exp-01_trial-005.txt', 'data_us_exp-01_trial-006.txt', 'data_us_exp-01_trial-007.txt', 'data_us_exp-01_trial-008.txt', 'data_us_exp-01_trial-009.txt', 'data_us_exp-01_trial-010.txt', 'data_us_exp-01_trial-011.txt', 'data_us_exp-01_trial-012.txt', 'data_us_exp-01_trial-013.txt', 'data_us_exp-01_trial-014.txt', 'data_us_exp-01_trial-015.txt', 'data_us_exp-01_trial-016.txt', 'data_us_exp-01_trial-017.txt', 'data_us_exp-01_trial-018.txt', 'data_us_exp-01_trial-019.txt', 'data_us_exp-01_trial-020.txt', 'data_us_exp-01_trial-021.txt', 'data_us_exp-01_trial-022.txt', 'data_us_exp-01_trial-023.txt', 'data_us_exp-01_trial-024.txt', 'data_us_exp-01_trial-025.txt', 'data_us_exp-01_trial-026.txt', 'data_us_exp-01_trial-027.txt', 'data_us_exp-01_trial-028.txt', 'data_us_exp-01_trial-029.txt', 'data_us_exp-01_trial-030.txt', 'data_us_exp-01_trial-031.txt', 'data_us_exp-01_trial-032.txt', 'data_us_exp-01_trial-033.txt', 'data_us_exp-01_trial-034.txt', 'data_us_exp-01_trial-035.txt', 'data_us_exp-01_trial-036.txt', 'data_us_exp-01_trial-037.txt', 'data_us_exp-01_trial-038.txt', 'data_us_exp-01_trial-039.txt', 'data_us_exp-01_trial-040.txt', 'data_us_exp-01_trial-041.txt', 'data_us_exp-01_trial-042.txt', 'data_us_exp-01_trial-043.txt', 'data_us_exp-01_trial-044.txt', 'data_us_exp-01_trial-045.txt', 'data_us_exp-01_trial-046.txt', 'data_us_exp-01_trial-047.txt', 'data_us_exp-01_trial-048.txt', 'data_us_exp-01_trial-049.txt', 'data_us_exp-01_trial-050.txt', 'data_us_exp-02_trial-001.txt', 'data_us_exp-02_trial-002.txt', 'data_us_exp-02_trial-003.txt', 'data_us_exp-02_trial-004.txt', 'data_us_exp-02_trial-005.txt', 'data_us_exp-02_trial-006.txt', 'data_us_exp-02_trial-007.txt', 'data_us_exp-02_trial-008.txt', 'data_us_exp-02_trial-009.txt', 'data_us_exp-02_trial-010.txt', 'data_us_exp-02_trial-011.txt', 'data_us_exp-02_trial-012.txt', 'data_us_exp-02_trial-013.txt', 'data_us_exp-02_trial-014.txt', 'data_us_exp-02_trial-015.txt', 'data_us_exp-02_trial-016.txt', 'data_us_exp-02_trial-017.txt', 'data_us_exp-02_trial-018.txt', 'data_us_exp-02_trial-019.txt', 'data_us_exp-02_trial-020.txt', 'data_us_exp-02_trial-021.txt', 'data_us_exp-02_trial-022.txt', 'data_us_exp-02_trial-023.txt', 'data_us_exp-02_trial-024.txt', 'data_us_exp-02_trial-025.txt', 'data_us_exp-02_trial-026.txt', 'data_us_exp-02_trial-027.txt', 'data_us_exp-02_trial-028.txt', 'data_us_exp-02_trial-029.txt', 'data_us_exp-02_trial-030.txt', 'data_us_exp-02_trial-031.txt', 'data_us_exp-02_trial-032.txt', 'data_us_exp-02_trial-033.txt', 'data_us_exp-02_trial-034.txt', 'data_us_exp-02_trial-035.txt', 'data_us_exp-02_trial-036.txt', 'data_us_exp-02_trial-037.txt', 'data_us_exp-02_trial-038.txt', 'data_us_exp-02_trial-039.txt', 'data_us_exp-02_trial-040.txt', 'data_us_exp-02_trial-041.txt', 'data_us_exp-02_trial-042.txt', 'data_us_exp-02_trial-043.txt', 'data_us_exp-02_trial-044.txt', 'data_us_exp-02_trial-045.txt', 'data_us_exp-02_trial-046.txt', 'data_us_exp-02_trial-047.txt', 'data_us_exp-02_trial-048.txt', 'data_us_exp-02_trial-049.txt', 'data_us_exp-02_trial-050.txt', 'data_us_exp-03_trial-001.txt', 'data_us_exp-03_trial-002.txt', 'data_us_exp-03_trial-003.txt', 'data_us_exp-03_trial-004.txt', 'data_us_exp-03_trial-005.txt', 'data_us_exp-03_trial-006.txt', 'data_us_exp-03_trial-007.txt', 'data_us_exp-03_trial-008.txt', 'data_us_exp-03_trial-009.txt', 'data_us_exp-03_trial-010.txt', 'data_us_exp-03_trial-011.txt', 'data_us_exp-03_trial-012.txt', 'data_us_exp-03_trial-013.txt', 'data_us_exp-03_trial-014.txt', 'data_us_exp-03_trial-015.txt', 'data_us_exp-03_trial-016.txt', 'data_us_exp-03_trial-017.txt', 'data_us_exp-03_trial-018.txt', 'data_us_exp-03_trial-019.txt', 'data_us_exp-03_trial-020.txt', 'data_us_exp-03_trial-021.txt', 'data_us_exp-03_trial-022.txt', 'data_us_exp-03_trial-023.txt', 'data_us_exp-03_trial-024.txt', 'data_us_exp-03_trial-025.txt', 'data_us_exp-03_trial-026.txt', 'data_us_exp-03_trial-027.txt', 'data_us_exp-03_trial-028.txt', 'data_us_exp-03_trial-029.txt', 'data_us_exp-03_trial-030.txt', 'data_us_exp-03_trial-031.txt', 'data_us_exp-03_trial-032.txt', 'data_us_exp-03_trial-033.txt', 'data_us_exp-03_trial-034.txt', 'data_us_exp-03_trial-035.txt', 'data_us_exp-03_trial-036.txt', 'data_us_exp-03_trial-037.txt', 'data_us_exp-03_trial-038.txt', 'data_us_exp-03_trial-039.txt', 'data_us_exp-03_trial-040.txt', 'data_us_exp-03_trial-041.txt', 'data_us_exp-03_trial-042.txt', 'data_us_exp-03_trial-043.txt', 'data_us_exp-03_trial-044.txt', 'data_us_exp-03_trial-045.txt', 'data_us_exp-03_trial-046.txt', 'data_us_exp-03_trial-047.txt', 'data_us_exp-03_trial-048.txt', 'data_us_exp-03_trial-049.txt', 'data_us_exp-03_trial-050.txt']\n"
     ]
    }
   ],
   "source": [
    "cty = ['sg', 'gb', 'us']\n",
    "print([f'data_{x}_exp-0{y}_trial-{z:03d}.txt' for x in cty for y in range(1,4) for z in range(1,51)])"
   ]
  },
  {
   "cell_type": "markdown",
   "id": "6247f627",
   "metadata": {},
   "source": [
    "## Exercise 2 :  Tutti frutti"
   ]
  },
  {
   "cell_type": "code",
   "execution_count": 72,
   "id": "db6f31a7",
   "metadata": {},
   "outputs": [
    {
     "name": "stdout",
     "output_type": "stream",
     "text": [
      "a e\n",
      "b a\n",
      "p e\n",
      "j t\n",
      "p h\n",
      "d n\n",
      "w n\n",
      "m o\n",
      "s y\n",
      "p t\n"
     ]
    }
   ],
   "source": [
    "fruits = [\"apple\", \"banana\", \"pineapple\", \"jackfruit\",\n",
    "        \"peach\", \"durian\", \"watermelon\", \"mango\",\n",
    "        \"strawberry\", \"passionfruit\"]\n",
    "for i in fruits:\n",
    "       print(i[0], i[-1])"
   ]
  },
  {
   "cell_type": "code",
   "execution_count": 75,
   "id": "4e4cd993",
   "metadata": {},
   "outputs": [
    {
     "name": "stdout",
     "output_type": "stream",
     "text": [
      "apple\n",
      "banana\n",
      "PINEAPPLE\n",
      "jackfruit\n",
      "PEACH\n",
      "durian\n",
      "watermelon\n",
      "mango\n",
      "strawberry\n",
      "PASSIONFRUIT\n"
     ]
    }
   ],
   "source": [
    "for i in fruits:\n",
    "       print(i.upper()) if i[0] == 'p' else print(i.lower())"
   ]
  },
  {
   "cell_type": "code",
   "execution_count": 86,
   "id": "5cbf4ebe",
   "metadata": {
    "scrolled": true
   },
   "outputs": [
    {
     "name": "stdout",
     "output_type": "stream",
     "text": [
      "['apple', 'banana', 'pineapple', 'jackfruit', 'peach', 'durian', 'watermelon', 'mango', 'strawberry', 'passionfruit', 'dragon fruit', 'apricots', 'oranges']\n",
      "['oranges', 'apricots', 'dragon fruit', 'apple', 'banana', 'pineapple', 'jackfruit', 'peach', 'durian', 'watermelon', 'mango', 'strawberry', 'passionfruit']\n",
      "['apple', 'banana', 'pineapple', 'jackfruit', 'peach', 'apricots', 'oranges', 'dragon fruit', 'durian', 'watermelon', 'mango', 'strawberry', 'passionfruit']\n"
     ]
    }
   ],
   "source": [
    "new_fruits = [\"dragon fruit\", \"apricots\", \"oranges\"]\n",
    "for i in new_fruits:\n",
    "    fruits.append(i)\n",
    "print(fruits)\n",
    "fruits = [\"apple\", \"banana\", \"pineapple\", \"jackfruit\",\n",
    "        \"peach\", \"durian\", \"watermelon\", \"mango\",\n",
    "        \"strawberry\", \"passionfruit\"]\n",
    "for i in new_fruits:\n",
    "    fruits = [i] + fruits\n",
    "print(fruits)\n",
    "\n",
    "fruits = [\"apple\", \"banana\", \"pineapple\", \"jackfruit\",\n",
    "        \"peach\", \"durian\", \"watermelon\", \"mango\",\n",
    "        \"strawberry\", \"passionfruit\"]\n",
    "\n",
    "for i in new_fruits:\n",
    "    fruits = fruits[:len(fruits)//2] + [i] + fruits[len(fruits)//2:]\n",
    "print(fruits)"
   ]
  },
  {
   "cell_type": "code",
   "execution_count": 97,
   "id": "167a8372",
   "metadata": {},
   "outputs": [
    {
     "data": {
      "text/plain": [
       "['pineapple',\n",
       " 'jackfruit',\n",
       " 'dragon fruit',\n",
       " 'watermelon',\n",
       " 'strawberry',\n",
       " 'passionfruit']"
      ]
     },
     "execution_count": 97,
     "metadata": {},
     "output_type": "execute_result"
    }
   ],
   "source": [
    "[i for i in fruits if len(i)>8]"
   ]
  },
  {
   "cell_type": "markdown",
   "id": "246feb17",
   "metadata": {},
   "source": [
    "## Exercise 3 :  Ciao Fibonacci"
   ]
  },
  {
   "cell_type": "code",
   "execution_count": 101,
   "id": "6c5fa5b0",
   "metadata": {},
   "outputs": [
    {
     "name": "stdout",
     "output_type": "stream",
     "text": [
      "[0, 1, 1, 2, 3, 5, 8, 13, 21, 34, 55, 89, 144, 233, 377]\n"
     ]
    }
   ],
   "source": [
    "fibonacci=[0, 1]\n",
    "for i in range(13):\n",
    "    fibonacci.append(fibonacci[-2] + fibonacci[-1])\n",
    "print(fibonacci)"
   ]
  },
  {
   "cell_type": "markdown",
   "id": "33c00305",
   "metadata": {},
   "source": [
    "## Exercise 4 :  A function for Fibonacci"
   ]
  },
  {
   "cell_type": "code",
   "execution_count": 106,
   "id": "641cc23a",
   "metadata": {},
   "outputs": [
    {
     "data": {
      "text/plain": [
       "[0, 1, 1, 2, 3, 5, 8, 13, 21, 34, 55, 89, 144, 233, 377, 610]"
      ]
     },
     "execution_count": 106,
     "metadata": {},
     "output_type": "execute_result"
    }
   ],
   "source": [
    "def fibonnaci(n):\n",
    "    if n == 0:\n",
    "        return [0]\n",
    "    if n == 1:\n",
    "        return [0, 1]\n",
    "    i = fibonnaci(n-1)\n",
    "    return i + [i[-2]+i[-1]]\n",
    "fibonnaci(15)"
   ]
  },
  {
   "cell_type": "markdown",
   "id": "84ff9f36",
   "metadata": {},
   "source": [
    "## Exercise 5 :  max_info() without NumPy"
   ]
  },
  {
   "cell_type": "code",
   "execution_count": 114,
   "id": "593d70c1",
   "metadata": {},
   "outputs": [
    {
     "data": {
      "text/plain": [
       "(-1e+99, -1)"
      ]
     },
     "execution_count": 114,
     "metadata": {},
     "output_type": "execute_result"
    }
   ],
   "source": [
    "def max_info(numbers):\n",
    "    my_max = -1e99\n",
    "    my_max_index = -1\n",
    "    for n,i in enumerate(numbers):\n",
    "        if i > my_max:\n",
    "            my_max = i\n",
    "            my_max_index = n\n",
    "    return my_max, my_max_index\n",
    "numbers = [40, 27, 83, 44, 74, 51, 76, 77, 10, 49]\n",
    "max_info(numbers)"
   ]
  },
  {
   "cell_type": "markdown",
   "id": "53b1f9cc",
   "metadata": {},
   "source": [
    "## Exercise 6 :  Take count"
   ]
  },
  {
   "cell_type": "code",
   "execution_count": 5,
   "id": "21f1d689",
   "metadata": {
    "scrolled": true
   },
   "outputs": [
    {
     "name": "stdout",
     "output_type": "stream",
     "text": [
      "['A', 'G', 'G', 'C', 'A', 'A', 'G', 'A', 'A', 'G', 'C', 'T', 'A', 'G', 'A', 'A', 'T', 'T', 'C', 'T', 'G', 'G', 'C', 'C', 'T', 'G', 'A', 'G', 'T', 'A', 'T', 'C', 'T', 'C', 'A', 'G', 'T', 'A', 'C', 'A', 'G', 'G', 'C', 'G', 'C', 'A', 'G', 'T', 'C', 'G', 'A', 'A', 'T', 'C', 'T', 'T', 'C', 'C', 'G', 'G', 'A', 'A', 'T', 'C', 'A', 'C', 'A', 'T', 'T', 'G', 'C', 'T', 'C', 'G', 'C', 'G', 'C', 'T', 'T', 'A', 'A', 'A', 'C', 'C', 'C', 'G', 'C', 'T', 'C', 'T', 'A', 'A', 'A', 'C', 'C', 'T', 'T', 'T', 'G', 'A', 'G', 'T', 'A', 'A', 'T', 'T', 'C', 'G', 'A', 'C', 'G', 'A', 'C', 'A', 'T', 'T', 'G', 'G', 'G', 'T', 'T', 'C', 'C', 'C', 'T', 'C', 'C', 'G', 'A', 'C', 'G', 'C', 'T', 'G', 'T', 'C', 'T', 'G', 'A', 'C', 'A', 'A', 'C', 'T', 'C', 'T', 'T', 'T', 'A', 'A', 'G', 'A', 'T', 'C', 'C', 'T', 'T', 'G', 'G', 'C', 'A', 'C', 'G', 'A', 'T', 'G', 'T', 'C', 'G', 'A', 'T', 'A', 'G', 'A', 'C', 'A', 'T', 'T', 'G', 'T', 'C', 'C', 'C', 'T', 'G', 'A', 'T', 'G', 'A', 'C', 'G', 'C', 'C', 'T', 'C', 'A', 'C', 'A', 'A', 'G', 'G', 'T', 'A', 'A', 'C', 'C', 'T', 'G', 'G', 'C', 'T', 'C', 'T', 'A', 'G', 'T', 'A', 'G', 'G', 'G', 'T', 'G', 'G', 'T', 'C', 'T', 'T', 'T', 'G', 'C', 'T', 'G', 'C', 'G', 'G', 'A', 'A', 'C', 'T', 'T', 'A', 'C', 'C', 'A', 'C', 'C', 'T', 'G', 'G', 'T', 'G', 'G', 'A', 'T', 'C', 'C', 'A', 'A', 'G', 'C', 'A', 'C', 'C', 'A', 'G', 'A', 'G', 'G', 'A', 'G', 'T', 'T', 'C', 'G', 'A', 'A', 'G', 'A', 'G', 'G', 'C', 'T', 'G', 'G', 'G', 'G', 'T', 'A', 'C', 'C', 'C', 'C', 'C', 'T', 'A', 'T', 'T', 'T', 'A', 'G', 'G', 'A', 'A', 'G', 'G', 'G', 'C', 'G', 'A', 'G', 'A', 'C', 'T', 'A', 'C', 'G', 'G', 'T', 'C', 'A', 'C', 'A', 'A', 'A', 'T', 'T', 'C', 'C', 'A', 'A', 'A', 'T', 'G', 'G', 'C', 'T', 'T', 'C', 'C', 'C', 'T', 'C', 'G', 'A', 'T', 'T', 'C', 'A', 'T', 'G', 'A', 'C', 'G', 'C', 'C', 'A', 'G', 'A', 'A', 'T', 'G', 'C', 'C', 'T', 'G', 'G', 'C', 'T', 'G', 'T', 'G', 'C', 'C', 'A', 'A', 'T', 'T', 'T', 'G', 'T', 'C', 'G', 'C', 'C', 'T', 'T', 'G', 'C', 'G', 'T', 'C', 'G', 'T', 'T', 'C', 'T', 'G', 'T', 'C', 'A', 'A', 'T', 'C', 'T', 'T', 'T', 'A', 'C', 'T', 'C', 'G', 'T', 'G', 'T', 'C', 'G', 'T', 'G', 'T', 'T', 'G', 'T', 'G', 'A', 'T', 'A', 'A', 'A', 'T', 'G', 'A', 'C', 'A', 'A', 'A', 'C', 'C', 'C', 'T', 'G', 'C', 'A', 'C', 'A', 'A', 'C', 'G', 'T', 'A', 'G', 'G', 'G', 'C', 'T', 'C', 'A', 'C', 'A', 'C', 'A', 'A', 'G', 'G', 'G', 'A', 'A', 'T', 'C', 'T', 'A', 'G', 'A', 'G', 'T', 'A', 'T', 'C', 'C', 'G', 'A', 'T', 'A', 'C', 'A', 'G', 'G', 'G', 'A', 'G', 'C', 'T', 'T', 'T', 'A', 'G', 'C', 'T', 'T', 'C', 'C', 'G', 'T', 'C', 'C', 'C', 'T', 'T', 'A', 'T', 'A', 'G', 'C', 'C', 'T', 'G', 'C', 'C', 'A', 'T', 'A', 'T', 'T', 'C', 'T', 'T', 'G', 'C', 'G', 'G', 'T', 'A', 'G', 'C', 'A', 'C', 'G', 'A', 'G', 'C', 'C', 'T', 'C', 'A', 'G', 'A', 'T', 'C', 'T', 'T', 'C', 'T', 'C', 'A', 'C', 'T', 'C', 'C', 'G', 'G', 'A', 'A', 'A', 'T', 'G', 'G', 'G', 'A', 'G', 'C', 'T', 'T', 'C', 'G', 'A', 'C', 'G', 'G', 'T', 'C', 'A', 'A', 'G', 'G', 'G', 'C', 'T', 'A', 'A', 'G', 'A', 'C', 'G', 'T', 'C', 'T', 'T', 'C', 'G', 'G', 'G', 'A', 'G', 'A', 'A', 'A', 'T', 'A', 'C', 'C', 'T', 'A', 'G', 'G', 'C', 'G', 'A', 'T', 'G', 'A', 'C', 'C', 'C', 'T', 'G', 'A', 'G', 'T', 'G', 'G', 'T', 'T', 'T', 'T', 'C', 'C', 'G', 'C', 'G', 'T', 'A', 'T', 'A', 'A', 'C', 'T', 'C', 'A', 'T', 'C', 'C', 'T', 'G', 'G', 'T', 'T', 'G', 'C', 'A', 'A', 'A', 'T', 'G', 'A', 'T', 'T', 'A', 'C', 'C', 'G', 'T', 'T', 'A', 'T', 'A', 'G', 'C', 'C', 'T', 'G', 'G', 'G', 'G', 'A', 'T', 'A', 'T', 'G', 'C', 'C', 'T', 'C', 'A', 'A', 'T', 'T', 'C', 'C', 'G', 'A', 'A', 'C', 'C', 'C', 'A', 'G', 'G', 'A', 'G', 'C', 'A', 'T', 'C', 'A', 'C', 'T', 'C', 'G', 'A', 'G', 'C', 'A', 'A', 'T', 'A', 'G', 'C', 'G', 'G', 'T', 'A', 'A', 'A', 'G', 'G', 'A', 'G', 'G', 'C', 'T', 'A', 'T', 'T', 'A', 'G', 'C', 'A', 'A', 'A', 'A', 'T', 'T', 'G', 'T', 'C', 'A', 'C', 'G', 'A', 'T', 'A', 'A', 'G', 'C', 'G', 'C', 'C', 'G', 'T', 'T', 'G', 'T', 'A', 'G', 'T', 'G', 'A', 'A', 'A', 'T', 'T', 'A', 'A', 'G', 'A', 'T', 'A', 'C', 'A', 'T', 'A', 'C', 'A', 'T', 'C', 'G', 'T', 'T', 'T', 'A', 'G', 'C', 'A', 'C', 'A', 'T', 'C', 'A', 'C', 'T', 'C', 'T', 'C', 'A', 'C', 'G', 'G', 'C', 'G', 'T', 'C', 'T', 'A', 'G', 'A', 'A', 'G', 'C', 'T', 'G', 'A', 'T', 'C', 'T', 'T', 'C', 'A', 'T', 'A', 'T', 'G', 'C', 'T', 'G', 'A', 'C', 'T', 'C', 'A', 'G', 'A', 'A', 'G', 'G', 'C', 'T', 'C', 'G', 'G', 'A', 'T', 'A', 'A', 'T', 'A', 'G', 'A', 'G', 'G', 'A', 'C', 'G', 'A', 'A', 'G', 'G', 'T', 'A', 'G', 'T', 'T', 'T', 'A', 'C', 'T', 'C', 'A', 'T', 'C', 'G', 'C', 'T', 'G', 'C', 'C', 'C', 'C', 'G', 'A', 'C', 'T', 'A', 'T', 'T', 'A', 'C', 'G', 'T', 'G', 'T', 'G', 'C', 'A', 'T', 'G', 'A', 'T', 'A', 'A', 'A', 'G', 'T', 'C', 'T', 'G', 'A', 'C', 'C', 'C', 'T', 'G', 'A', 'C', 'G', 'T', 'T', 'C', 'C', 'C', 'A', 'A', 'G', 'C', 'C', 'G', 'A', 'G', 'G', 'C', 'A', 'G', 'A', 'G', 'G', 'G', 'G', 'T', 'T', 'T', 'T', 'A', 'C', 'G', 'C', 'T', 'G', 'A', 'A', 'T', 'G', 'T', 'C', 'C', 'G', 'C', 'T', 'C', 'T', 'C', 'T', 'G', 'T', 'C', 'G', 'G', 'A', 'T', 'G', 'A', 'T', 'T', 'T', 'C', 'G', 'G', 'A', 'A', 'G', 'C', 'T', 'G']\n"
     ]
    }
   ],
   "source": [
    "import numpy\n",
    "seqstr = \"AGGCAAGAAGCTAGAATTCTGGCCTGAGTATCTCAGTACAGGCGCAGTCGAATCTTCCGGAATCACATTGCTCGCGCTTAAACCCGCTCTAAACCTTTGAGTAATTCGACGACATTGGGTTCCCTCCGACGCTGTCTGACAACTCTTTAAGATCCTTGGCACGATGTCGATAGACATTGTCCCTGATGACGCCTCACAAGGTAACCTGGCTCTAGTAGGGTGGTCTTTGCTGCGGAACTTACCACCTGGTGGATCCAAGCACCAGAGGAGTTCGAAGAGGCTGGGGTACCCCCTATTTAGGAAGGGCGAGACTACGGTCACAAATTCCAAATGGCTTCCCTCGATTCATGACGCCAGAATGCCTGGCTGTGCCAATTTGTCGCCTTGCGTCGTTCTGTCAATCTTTACTCGTGTCGTGTTGTGATAAATGACAAACCCTGCACAACGTAGGGCTCACACAAGGGAATCTAGAGTATCCGATACAGGGAGCTTTAGCTTCCGTCCCTTATAGCCTGCCATATTCTTGCGGTAGCACGAGCCTCAGATCTTCTCACTCCGGAAATGGGAGCTTCGACGGTCAAGGGCTAAGACGTCTTCGGGAGAAATACCTAGGCGATGACCCTGAGTGGTTTTCCGCGTATAACTCATCCTGGTTGCAAATGATTACCGTTATAGCCTGGGGATATGCCTCAATTCCGAACCCAGGAGCATCACTCGAGCAATAGCGGTAAAGGAGGCTATTAGCAAAATTGTCACGATAAGCGCCGTTGTAGTGAAATTAAGATACATACATCGTTTAGCACATCACTCTCACGGCGTCTAGAAGCTGATCTTCATATGCTGACTCAGAAGGCTCGGATAATAGAGGACGAAGGTAGTTTACTCATCGCTGCCCCGACTATTACGTGTGCATGATAAAGTCTGACCCTGACGTTCCCAAGCCGAGGCAGAGGGGTTTTACGCTGAATGTCCGCTCTCTGTCGGATGATTTCGGAAGCTG\"\n",
    "seq = [y for y in seqstr]"
   ]
  },
  {
   "cell_type": "code",
   "execution_count": 6,
   "id": "60e966be",
   "metadata": {},
   "outputs": [
    {
     "data": {
      "text/plain": [
       "254"
      ]
     },
     "execution_count": 6,
     "metadata": {},
     "output_type": "execute_result"
    }
   ],
   "source": [
    "count_T = 0\n",
    "for i in range(len(seq)):\n",
    "    if seq[i]=='T': count_T += 1\n",
    "count_T"
   ]
  },
  {
   "cell_type": "code",
   "execution_count": 7,
   "id": "0a054a44",
   "metadata": {},
   "outputs": [
    {
     "data": {
      "text/plain": [
       "254"
      ]
     },
     "execution_count": 7,
     "metadata": {},
     "output_type": "execute_result"
    }
   ],
   "source": [
    "sum([seq[i]=='T' for i in range(len(seq))])"
   ]
  },
  {
   "cell_type": "code",
   "execution_count": 9,
   "id": "b2a80fe5",
   "metadata": {},
   "outputs": [
    {
     "data": {
      "text/plain": [
       "{'A': 247, 'C': 250, 'G': 249, 'T': 254}"
      ]
     },
     "execution_count": 9,
     "metadata": {},
     "output_type": "execute_result"
    }
   ],
   "source": [
    "base_counts = {}\n",
    "for B in (\"A\", \"C\", \"G\", \"T\"):\n",
    "    n = 0\n",
    "    for i in range(len(seq)):\n",
    "        if seq[i] == B: n += 1\n",
    "    base_counts[B] = n\n",
    "base_counts"
   ]
  },
  {
   "cell_type": "code",
   "execution_count": 11,
   "id": "718977d0",
   "metadata": {},
   "outputs": [
    {
     "data": {
      "text/plain": [
       "(array(['A', 'C', 'G', 'T'], dtype='<U1'),\n",
       " array([247, 250, 249, 254], dtype=int64))"
      ]
     },
     "execution_count": 11,
     "metadata": {},
     "output_type": "execute_result"
    }
   ],
   "source": [
    "np.unique(np.array(seq),return_counts=True)"
   ]
  },
  {
   "cell_type": "code",
   "execution_count": 19,
   "id": "a9f58b24",
   "metadata": {},
   "outputs": [
    {
     "data": {
      "text/plain": [
       "['AGGC',\n",
       " 'AAGA',\n",
       " 'AGCT',\n",
       " 'AGAA',\n",
       " 'TTCT',\n",
       " 'GGCC',\n",
       " 'TGAG',\n",
       " 'TATC',\n",
       " 'TCAG',\n",
       " 'TACA',\n",
       " 'GGCG',\n",
       " 'CAGT',\n",
       " 'CGAA',\n",
       " 'TCTT',\n",
       " 'CCGG',\n",
       " 'AATC',\n",
       " 'ACAT',\n",
       " 'TGCT',\n",
       " 'CGCG',\n",
       " 'CTTA',\n",
       " 'AACC',\n",
       " 'CGCT',\n",
       " 'CTAA',\n",
       " 'ACCT',\n",
       " 'TTGA',\n",
       " 'GTAA',\n",
       " 'TTCG',\n",
       " 'ACGA',\n",
       " 'CATT',\n",
       " 'GGGT',\n",
       " 'TCCC',\n",
       " 'TCCG',\n",
       " 'ACGC',\n",
       " 'TGTC',\n",
       " 'TGAC',\n",
       " 'AACT',\n",
       " 'CTTT',\n",
       " 'AAGA',\n",
       " 'TCCT',\n",
       " 'TGGC',\n",
       " 'ACGA',\n",
       " 'TGTC',\n",
       " 'GATA',\n",
       " 'GACA',\n",
       " 'TTGT',\n",
       " 'CCCT',\n",
       " 'GATG',\n",
       " 'ACGC',\n",
       " 'CTCA',\n",
       " 'CAAG',\n",
       " 'GTAA',\n",
       " 'CCTG',\n",
       " 'GCTC',\n",
       " 'TAGT',\n",
       " 'AGGG',\n",
       " 'TGGT',\n",
       " 'CTTT',\n",
       " 'GCTG',\n",
       " 'CGGA',\n",
       " 'ACTT',\n",
       " 'ACCA',\n",
       " 'CCTG',\n",
       " 'GTGG',\n",
       " 'ATCC',\n",
       " 'AAGC',\n",
       " 'ACCA',\n",
       " 'GAGG',\n",
       " 'AGTT',\n",
       " 'CGAA',\n",
       " 'GAGG',\n",
       " 'CTGG',\n",
       " 'GGTA',\n",
       " 'CCCC',\n",
       " 'CTAT',\n",
       " 'TTAG',\n",
       " 'GAAG',\n",
       " 'GGCG',\n",
       " 'AGAC',\n",
       " 'TACG',\n",
       " 'GTCA',\n",
       " 'CAAA',\n",
       " 'TTCC',\n",
       " 'AAAT',\n",
       " 'GGCT',\n",
       " 'TCCC',\n",
       " 'TCGA',\n",
       " 'TTCA',\n",
       " 'TGAC',\n",
       " 'GCCA',\n",
       " 'GAAT',\n",
       " 'GCCT',\n",
       " 'GGCT',\n",
       " 'GTGC',\n",
       " 'CAAT',\n",
       " 'TTGT',\n",
       " 'CGCC',\n",
       " 'TTGC',\n",
       " 'GTCG',\n",
       " 'TTCT',\n",
       " 'GTCA',\n",
       " 'ATCT',\n",
       " 'TTAC',\n",
       " 'TCGT',\n",
       " 'GTCG',\n",
       " 'TGTT',\n",
       " 'GTGA',\n",
       " 'TAAA',\n",
       " 'TGAC',\n",
       " 'AAAC',\n",
       " 'CCTG',\n",
       " 'CACA',\n",
       " 'ACGT',\n",
       " 'AGGG',\n",
       " 'CTCA',\n",
       " 'CACA',\n",
       " 'AGGG',\n",
       " 'AATC',\n",
       " 'TAGA',\n",
       " 'GTAT',\n",
       " 'CCGA',\n",
       " 'TACA',\n",
       " 'GGGA',\n",
       " 'GCTT',\n",
       " 'TAGC',\n",
       " 'TTCC',\n",
       " 'GTCC',\n",
       " 'CTTA',\n",
       " 'TAGC',\n",
       " 'CTGC',\n",
       " 'CATA',\n",
       " 'TTCT',\n",
       " 'TGCG',\n",
       " 'GTAG',\n",
       " 'CACG',\n",
       " 'AGCC',\n",
       " 'TCAG',\n",
       " 'ATCT',\n",
       " 'TCTC',\n",
       " 'ACTC',\n",
       " 'CGGA',\n",
       " 'AATG',\n",
       " 'GGAG',\n",
       " 'CTTC',\n",
       " 'GACG',\n",
       " 'GTCA',\n",
       " 'AGGG',\n",
       " 'CTAA',\n",
       " 'GACG',\n",
       " 'TCTT',\n",
       " 'CGGG',\n",
       " 'AGAA',\n",
       " 'ATAC',\n",
       " 'CTAG',\n",
       " 'GCGA',\n",
       " 'TGAC',\n",
       " 'CCTG',\n",
       " 'AGTG',\n",
       " 'GTTT',\n",
       " 'TCCG',\n",
       " 'CGTA',\n",
       " 'TAAC',\n",
       " 'TCAT',\n",
       " 'CCTG',\n",
       " 'GTTG',\n",
       " 'CAAA',\n",
       " 'TGAT',\n",
       " 'TACC',\n",
       " 'GTTA',\n",
       " 'TAGC',\n",
       " 'CTGG',\n",
       " 'GGAT',\n",
       " 'ATGC',\n",
       " 'CTCA',\n",
       " 'ATTC',\n",
       " 'CGAA',\n",
       " 'CCCA',\n",
       " 'GGAG',\n",
       " 'CATC',\n",
       " 'ACTC',\n",
       " 'GAGC',\n",
       " 'AATA',\n",
       " 'GCGG',\n",
       " 'TAAA',\n",
       " 'GGAG',\n",
       " 'GCTA',\n",
       " 'TTAG',\n",
       " 'CAAA',\n",
       " 'ATTG',\n",
       " 'TCAC',\n",
       " 'GATA',\n",
       " 'AGCG',\n",
       " 'CCGT',\n",
       " 'TGTA',\n",
       " 'GTGA',\n",
       " 'AATT',\n",
       " 'AAGA',\n",
       " 'TACA',\n",
       " 'TACA',\n",
       " 'TCGT',\n",
       " 'TTAG',\n",
       " 'CACA',\n",
       " 'TCAC',\n",
       " 'TCTC',\n",
       " 'ACGG',\n",
       " 'CGTC',\n",
       " 'TAGA',\n",
       " 'AGCT',\n",
       " 'GATC',\n",
       " 'TTCA',\n",
       " 'TATG',\n",
       " 'CTGA',\n",
       " 'CTCA',\n",
       " 'GAAG',\n",
       " 'GCTC',\n",
       " 'GGAT',\n",
       " 'AATA',\n",
       " 'GAGG',\n",
       " 'ACGA',\n",
       " 'AGGT',\n",
       " 'AGTT',\n",
       " 'TACT',\n",
       " 'CATC',\n",
       " 'GCTG',\n",
       " 'CCCC',\n",
       " 'GACT',\n",
       " 'ATTA',\n",
       " 'CGTG',\n",
       " 'TGCA',\n",
       " 'TGAT',\n",
       " 'AAAG',\n",
       " 'TCTG',\n",
       " 'ACCC',\n",
       " 'TGAC',\n",
       " 'GTTC',\n",
       " 'CCAA',\n",
       " 'GCCG',\n",
       " 'AGGC',\n",
       " 'AGAG',\n",
       " 'GGGT',\n",
       " 'TTTA',\n",
       " 'CGCT',\n",
       " 'GAAT',\n",
       " 'GTCC',\n",
       " 'GCTC',\n",
       " 'TCTG',\n",
       " 'TCGG',\n",
       " 'ATGA',\n",
       " 'TTTC',\n",
       " 'GGAA',\n",
       " 'GCTG']"
      ]
     },
     "execution_count": 19,
     "metadata": {},
     "output_type": "execute_result"
    }
   ],
   "source": [
    "#CODONS HAVE LEFT THE CHAT?\n",
    "[seqstr[4*i:4*i+4]for i in range(len(seqstr)//4)]"
   ]
  }
 ],
 "metadata": {
  "kernelspec": {
   "display_name": "Python 3 (ipykernel)",
   "language": "python",
   "name": "python3"
  },
  "language_info": {
   "codemirror_mode": {
    "name": "ipython",
    "version": 3
   },
   "file_extension": ".py",
   "mimetype": "text/x-python",
   "name": "python",
   "nbconvert_exporter": "python",
   "pygments_lexer": "ipython3",
   "version": "3.9.7"
  },
  "toc": {
   "base_numbering": 1,
   "nav_menu": {},
   "number_sections": true,
   "sideBar": true,
   "skip_h1_title": false,
   "title_cell": "Table of Contents",
   "title_sidebar": "Contents",
   "toc_cell": false,
   "toc_position": {},
   "toc_section_display": true,
   "toc_window_display": false
  },
  "varInspector": {
   "cols": {
    "lenName": 16,
    "lenType": 16,
    "lenVar": 40
   },
   "kernels_config": {
    "python": {
     "delete_cmd_postfix": "",
     "delete_cmd_prefix": "del ",
     "library": "var_list.py",
     "varRefreshCmd": "print(var_dic_list())"
    },
    "r": {
     "delete_cmd_postfix": ") ",
     "delete_cmd_prefix": "rm(",
     "library": "var_list.r",
     "varRefreshCmd": "cat(var_dic_list()) "
    }
   },
   "types_to_exclude": [
    "module",
    "function",
    "builtin_function_or_method",
    "instance",
    "_Feature"
   ],
   "window_display": false
  },
  "vscode": {
   "interpreter": {
    "hash": "31f2aee4e71d21fbe5cf8b01ff0e069b9275f58929596ceb00d14d90e3e16cd6"
   }
  }
 },
 "nbformat": 4,
 "nbformat_minor": 5
}
