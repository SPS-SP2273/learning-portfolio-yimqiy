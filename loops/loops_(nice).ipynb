{
 "cells": [
  {
   "cell_type": "markdown",
   "id": "123456",
   "metadata": {},
   "source": [
    "<div style=\"text-align:left;font-size:2em\"><span style=\"font-weight:bolder;font-size:1.25em\">SP2273 | Learning Portfolio</span><br><br><span style=\"font-weight:bold;color:darkred\">Loops (Nice)</span></div>"
   ]
  },
  {
   "cell_type": "markdown",
   "id": "7aef9777",
   "metadata": {},
   "source": [
    "## 1 There is more…"
   ]
  },
  {
   "cell_type": "markdown",
   "id": "ae896094",
   "metadata": {},
   "source": [
    "### 1.1 There is more to list comprehension"
   ]
  },
  {
   "cell_type": "code",
   "execution_count": 11,
   "id": "76e4b173",
   "metadata": {},
   "outputs": [
    {
     "data": {
      "text/plain": [
       "[[1, 'A'], [1, 'B'], [1, 'C'], [3, 'A'], [3, 'B'], [3, 'C']]"
      ]
     },
     "execution_count": 11,
     "metadata": {},
     "output_type": "execute_result"
    }
   ],
   "source": [
    "[[a,b] for a in range(5) for b in ['A', 'B', 'C'] if a % 2]\n",
    "#iterates through all a then b for each a"
   ]
  },
  {
   "cell_type": "code",
   "execution_count": 13,
   "id": "a778cb4f",
   "metadata": {},
   "outputs": [
    {
     "data": {
      "text/plain": [
       "[[[1, 2, 3], 1],\n",
       " [[1, 2, 3], 2],\n",
       " [[1, 2, 3], 3],\n",
       " [[4, 5, 6, 7], 4],\n",
       " [[4, 5, 6, 7], 5],\n",
       " [[4, 5, 6, 7], 6],\n",
       " [[4, 5, 6, 7], 7]]"
      ]
     },
     "execution_count": 13,
     "metadata": {},
     "output_type": "execute_result"
    }
   ],
   "source": [
    "nested_list=[[1, 2, 3], [4, 5, 6, 7]]\n",
    "[[x,y] for x in nested_list for y in x] #for clarity"
   ]
  },
  {
   "cell_type": "code",
   "execution_count": 15,
   "id": "829b3516",
   "metadata": {},
   "outputs": [
    {
     "data": {
      "text/plain": [
       "[1, 2, 3, 4, 5, 6, 7]"
      ]
     },
     "execution_count": 15,
     "metadata": {},
     "output_type": "execute_result"
    }
   ],
   "source": [
    "[y for x in nested_list for y in x] #original"
   ]
  },
  {
   "cell_type": "markdown",
   "id": "ee252ef8",
   "metadata": {},
   "source": [
    "### 1.2 Zipping a dictionary"
   ]
  },
  {
   "cell_type": "code",
   "execution_count": 16,
   "id": "bd2a83f2",
   "metadata": {},
   "outputs": [
    {
     "data": {
      "text/plain": [
       "{'Natasha Romanoff': 'Black Widow',\n",
       " 'Tony Stark': 'Iron Man',\n",
       " 'Stephen Strange': 'Doctor Strange'}"
      ]
     },
     "execution_count": 16,
     "metadata": {},
     "output_type": "execute_result"
    }
   ],
   "source": [
    "super_names=[\"Black Widow\", \"Iron Man\", \"Doctor Strange\"]\n",
    "real_names=[\"Natasha Romanoff\", \"Tony Stark\", \"Stephen Strange\"]\n",
    "\n",
    "dict(zip(real_names, super_names))\n",
    "#disclaimer: not a memory reduction feature"
   ]
  },
  {
   "cell_type": "markdown",
   "id": "0ae3ef22",
   "metadata": {},
   "source": [
    "### 1.3 for and while has an else"
   ]
  },
  {
   "cell_type": "code",
   "execution_count": 41,
   "id": "18cb6c2d",
   "metadata": {},
   "outputs": [
    {
     "name": "stdout",
     "output_type": "stream",
     "text": [
      "No negative numbers in the list\n",
      "-1\n",
      "2 is a prime number\n",
      "3 is a prime number\n",
      "4 equals 2 * 2.0\n",
      "5 is a prime number\n",
      "6 equals 2 * 3.0\n",
      "7 is a prime number\n",
      "8 equals 2 * 4.0\n",
      "9 equals 3 * 3.0\n"
     ]
    }
   ],
   "source": [
    "numbers=[0, 1, 2, 3, 4, 5, 6, 7, 8, 9]\n",
    "\n",
    "for i in numbers:\n",
    "    if i < 0: break\n",
    "else: #note indentation\n",
    "    print('No negative numbers in the list')\n",
    "\n",
    "numbers = [-i for i in numbers]\n",
    "for i in numbers:\n",
    "    if i < 0:\n",
    "        print(i)\n",
    "        break\n",
    "else: #note indentation\n",
    "    print('No negative numbers in the list')    \n",
    "    \n",
    "#https://book.pythontips.com/en/latest/for_-_else.html\n",
    "for n in range(2, 10):\n",
    "    for x in range(2, n):\n",
    "        if n % x == 0:\n",
    "            print( n, 'equals', x, '*', n/x)\n",
    "            break\n",
    "    else:\n",
    "        # loop fell through without finding a factor\n",
    "        print(n, 'is a prime number')"
   ]
  },
  {
   "cell_type": "markdown",
   "id": "c557128c",
   "metadata": {},
   "source": [
    "## Explore 1 :  Changing a list\n",
    "\n",
    "With the for loop, a ``.remove()`` function shifts the index of all elements forward, and the element following the remove element is not iterated.\n",
    "\n",
    "Instead, we can use an if statement to mask the required elements"
   ]
  },
  {
   "cell_type": "code",
   "execution_count": 78,
   "id": "b24afe66",
   "metadata": {},
   "outputs": [
    {
     "data": {
      "text/plain": [
       "['apple',\n",
       " 'banana',\n",
       " 'jackfruit',\n",
       " 'watermelons',\n",
       " 'durian',\n",
       " 'mangoes',\n",
       " 'strawberries']"
      ]
     },
     "execution_count": 78,
     "metadata": {},
     "output_type": "execute_result"
    }
   ],
   "source": [
    "fruits = [\"apple\", \"banana\", \"jackfruit\",\n",
    "          \"pineapple\", \"papaya\", \"watermelons\",\n",
    "          \"peaches\", \"durian\",  \"mangoes\",\n",
    "          \"strawberries\", \"passionfruit\"\n",
    "          ]\n",
    "[fruit for fruit in fruits if fruit[0]!= \"p\"]"
   ]
  },
  {
   "cell_type": "markdown",
   "id": "d4baf028",
   "metadata": {},
   "source": [
    "## Explore 2 :  A list of power\n",
    "As we initialised ``result`` to be ``maximum_n`` (deep) copies of an empty array, they point to the same object and all of them will be filled by ``.append()``.\n",
    "\n",
    "Instead, we should comprehend ``maximum_n`` times of an empty list."
   ]
  },
  {
   "cell_type": "code",
   "execution_count": 122,
   "id": "0fdea075",
   "metadata": {},
   "outputs": [
    {
     "data": {
      "text/plain": [
       "[[1, 1, 1], [2, 4, 8], [3, 9, 27], [4, 16, 64], [5, 25, 125]]"
      ]
     },
     "execution_count": 122,
     "metadata": {},
     "output_type": "execute_result"
    }
   ],
   "source": [
    "maximum_n = 5\n",
    "result = [[] for i in range(maximum_n)]\n",
    "for n in range(1, maximum_n + 1):\n",
    "    result[n - 1].append(n)\n",
    "    result[n - 1].append(n**2)\n",
    "    result[n - 1].append(n**3)\n",
    "result"
   ]
  },
  {
   "cell_type": "markdown",
   "id": "4a447486",
   "metadata": {},
   "source": [
    "Without initialisation:"
   ]
  },
  {
   "cell_type": "code",
   "execution_count": 125,
   "id": "1194defc",
   "metadata": {},
   "outputs": [
    {
     "data": {
      "text/plain": [
       "[[1, 1, 1], [2, 4, 8], [3, 9, 27], [4, 16, 64], [5, 25, 125]]"
      ]
     },
     "execution_count": 125,
     "metadata": {},
     "output_type": "execute_result"
    }
   ],
   "source": [
    "maximum_n = 5\n",
    "result = [[n,n**2,n**3] for n in range(1, maximum_n + 1)]\n",
    "result"
   ]
  },
  {
   "cell_type": "markdown",
   "id": "43d8dfd1",
   "metadata": {},
   "source": [
    "## Explore 3 :  Time profiling"
   ]
  },
  {
   "cell_type": "code",
   "execution_count": 162,
   "id": "26f98d7a",
   "metadata": {},
   "outputs": [
    {
     "name": "stdout",
     "output_type": "stream",
     "text": [
      "5.93 µs ± 167 ns per loop (mean ± std. dev. of 7 runs, 100,000 loops each)\n"
     ]
    }
   ],
   "source": [
    "%%timeit\n",
    "#for list append\n",
    "n = 10\n",
    "a = []\n",
    "for i in range(n):\n",
    "    a.append(i**2)"
   ]
  },
  {
   "cell_type": "code",
   "execution_count": 163,
   "id": "e68fc676",
   "metadata": {},
   "outputs": [
    {
     "name": "stdout",
     "output_type": "stream",
     "text": [
      "6.34 µs ± 97.6 ns per loop (mean ± std. dev. of 7 runs, 100,000 loops each)\n"
     ]
    }
   ],
   "source": [
    "%%timeit\n",
    "#while list append\n",
    "a = []\n",
    "i = 0\n",
    "while i<n:\n",
    "    a.append(i**2)\n",
    "    i+=1"
   ]
  },
  {
   "cell_type": "code",
   "execution_count": 164,
   "id": "32aae24a",
   "metadata": {},
   "outputs": [
    {
     "name": "stdout",
     "output_type": "stream",
     "text": [
      "5.71 µs ± 41.2 ns per loop (mean ± std. dev. of 7 runs, 100,000 loops each)\n"
     ]
    }
   ],
   "source": [
    "%%timeit\n",
    "#for list comprehension\n",
    "[i**2 for i in range(n)]"
   ]
  },
  {
   "cell_type": "code",
   "execution_count": 189,
   "id": "afeea23f",
   "metadata": {},
   "outputs": [
    {
     "name": "stdout",
     "output_type": "stream",
     "text": [
      "3.11 µs ± 41 ns per loop (mean ± std. dev. of 7 runs, 100,000 loops each)\n"
     ]
    }
   ],
   "source": [
    "%%timeit\n",
    "#for list assignment\n",
    "a = [0]*n\n",
    "for i in range(n):\n",
    "    a[i] = i**2 #already overwrites deep copies, so ok"
   ]
  },
  {
   "cell_type": "code",
   "execution_count": 190,
   "id": "fa77ea9d",
   "metadata": {},
   "outputs": [
    {
     "name": "stdout",
     "output_type": "stream",
     "text": [
      "3.31 µs ± 103 ns per loop (mean ± std. dev. of 7 runs, 100,000 loops each)\n"
     ]
    }
   ],
   "source": [
    "%%timeit\n",
    "#for list +=\n",
    "a = []\n",
    "for i in range(n):\n",
    "    a += [i**2]"
   ]
  },
  {
   "cell_type": "code",
   "execution_count": 166,
   "id": "086eded6",
   "metadata": {},
   "outputs": [
    {
     "name": "stdout",
     "output_type": "stream",
     "text": [
      "81.6 µs ± 1.58 µs per loop (mean ± std. dev. of 7 runs, 10,000 loops each)\n"
     ]
    }
   ],
   "source": [
    "%%timeit\n",
    "#for numpy append\n",
    "a = np.array([])\n",
    "for i in range(n):\n",
    "    a = np.append(a,i**2)"
   ]
  },
  {
   "cell_type": "code",
   "execution_count": 173,
   "id": "d5f29441",
   "metadata": {},
   "outputs": [
    {
     "name": "stdout",
     "output_type": "stream",
     "text": [
      "47.7 µs ± 2.75 µs per loop (mean ± std. dev. of 7 runs, 10,000 loops each)\n"
     ]
    }
   ],
   "source": [
    "%%timeit\n",
    "#for numpy +=\n",
    "a = np.array([])\n",
    "for i in range(n):\n",
    "    a += np.array([i**2])"
   ]
  },
  {
   "cell_type": "code",
   "execution_count": 175,
   "id": "5ee2ead2",
   "metadata": {},
   "outputs": [
    {
     "name": "stdout",
     "output_type": "stream",
     "text": [
      "7.14 µs ± 101 ns per loop (mean ± std. dev. of 7 runs, 100,000 loops each)\n"
     ]
    }
   ],
   "source": [
    "%%timeit\n",
    "#for numpy assignment\n",
    "a = np.zeros(n)\n",
    "for i in range(n):\n",
    "    a[i]=i**2"
   ]
  },
  {
   "cell_type": "code",
   "execution_count": 168,
   "id": "5851466d",
   "metadata": {},
   "outputs": [
    {
     "name": "stdout",
     "output_type": "stream",
     "text": [
      "2.98 µs ± 239 ns per loop (mean ± std. dev. of 7 runs, 100,000 loops each)\n"
     ]
    }
   ],
   "source": [
    "%%timeit\n",
    "#for numpy comprehension\n",
    "a = np.array(i**2 for i in range(n))"
   ]
  },
  {
   "cell_type": "markdown",
   "id": "aab0f093",
   "metadata": {},
   "source": [
    "1. for loops are faster than while loops, likely because the index updates automatically.\n",
    "2. list comprehension is marginally faster than a normal loop.\\\n",
    "Creating an initialised list of zeros, then assigning based on index, is even faster.\n",
    "3. append() is marginally faster than +=\n",
    "4. append() of numpy is very slow compared to list. As numpy array size is fixed, append() overwrites any existing array stored.\n",
    "5. numpy += is faster than append() but still very slow.\\\n",
    "With initialised numpy array and assignment, numpy is fast again.\\\n",
    "numpy comprehension is twice as fast as list comprehension.\n",
    "\n",
    "Overall, numpy list comprehension produces the fastest execution."
   ]
  },
  {
   "cell_type": "code",
   "execution_count": null,
   "id": "846b54bc",
   "metadata": {},
   "outputs": [],
   "source": []
  }
 ],
 "metadata": {
  "kernelspec": {
   "display_name": "Python 3 (ipykernel)",
   "language": "python",
   "name": "python3"
  },
  "language_info": {
   "codemirror_mode": {
    "name": "ipython",
    "version": 3
   },
   "file_extension": ".py",
   "mimetype": "text/x-python",
   "name": "python",
   "nbconvert_exporter": "python",
   "pygments_lexer": "ipython3",
   "version": "3.9.5"
  },
  "toc": {
   "base_numbering": 1,
   "nav_menu": {},
   "number_sections": true,
   "sideBar": true,
   "skip_h1_title": false,
   "title_cell": "Table of Contents",
   "title_sidebar": "Contents",
   "toc_cell": false,
   "toc_position": {},
   "toc_section_display": true,
   "toc_window_display": false
  },
  "varInspector": {
   "cols": {
    "lenName": 16,
    "lenType": 16,
    "lenVar": 40
   },
   "kernels_config": {
    "python": {
     "delete_cmd_postfix": "",
     "delete_cmd_prefix": "del ",
     "library": "var_list.py",
     "varRefreshCmd": "print(var_dic_list())"
    },
    "r": {
     "delete_cmd_postfix": ") ",
     "delete_cmd_prefix": "rm(",
     "library": "var_list.r",
     "varRefreshCmd": "cat(var_dic_list()) "
    }
   },
   "types_to_exclude": [
    "module",
    "function",
    "builtin_function_or_method",
    "instance",
    "_Feature"
   ],
   "window_display": false
  },
  "vscode": {
   "interpreter": {
    "hash": "31f2aee4e71d21fbe5cf8b01ff0e069b9275f58929596ceb00d14d90e3e16cd6"
   }
  }
 },
 "nbformat": 4,
 "nbformat_minor": 5
}
