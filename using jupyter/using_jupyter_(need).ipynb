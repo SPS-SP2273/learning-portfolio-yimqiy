{
 "cells": [
  {
   "cell_type": "markdown",
   "id": "123456",
   "metadata": {},
   "source": [
    "<div style=\"text-align:left;font-size:2em\"><span style=\"font-weight:bolder;font-size:1.25em\">SP2273 | Learning Portfolio</span><br><br><span style=\"font-weight:bold;color:darkred\">Using Jupyter (Need)</span></div>"
   ]
  },
  {
   "cell_type": "markdown",
   "id": "08e6660a",
   "metadata": {},
   "source": [
    "## 1 Getting started with Jupyter"
   ]
  },
  {
   "cell_type": "markdown",
   "id": "c7bc19bb",
   "metadata": {},
   "source": [
    "### 1.1 Its all about running cells"
   ]
  },
  {
   "cell_type": "code",
   "execution_count": 1,
   "id": "d15845ba",
   "metadata": {},
   "outputs": [],
   "source": [
    "#SHIFT + ENTER also works"
   ]
  },
  {
   "cell_type": "markdown",
   "id": "88e77e96",
   "metadata": {},
   "source": [
    "### 1.2 A traditional start"
   ]
  },
  {
   "cell_type": "code",
   "execution_count": 3,
   "id": "71548db1",
   "metadata": {},
   "outputs": [
    {
     "name": "stdout",
     "output_type": "stream",
     "text": [
      "sadge\n"
     ]
    }
   ],
   "source": [
    "print('sadge')"
   ]
  },
  {
   "cell_type": "markdown",
   "id": "ceebdc36",
   "metadata": {},
   "source": [
    "## 2 All about Markdown"
   ]
  },
  {
   "cell_type": "markdown",
   "id": "a7e6f206",
   "metadata": {},
   "source": [
    "### 2.1 Rendering Markdown cells"
   ]
  },
  {
   "cell_type": "markdown",
   "id": "6ea3e2be",
   "metadata": {},
   "source": [
    "another sadge"
   ]
  },
  {
   "cell_type": "markdown",
   "id": "ed0d6420",
   "metadata": {},
   "source": [
    "### 2.2 Some basic syntax"
   ]
  },
  {
   "cell_type": "markdown",
   "id": "a5bd241e",
   "metadata": {},
   "source": [
    "The ships *hung in the sky* in much the same way that **bricks don’t.**<sup>1</sup><sub>QUOTE</sub>"
   ]
  },
  {
   "cell_type": "markdown",
   "id": "069cb516",
   "metadata": {},
   "source": [
    "### 2.3 Headings"
   ]
  },
  {
   "cell_type": "markdown",
   "id": "d7b4a5e0",
   "metadata": {},
   "source": [
    "# The largest heading\n",
    "\n",
    "## The second-largest heading\n",
    "\n",
    "### The third-largest heading\n",
    "\n",
    "###### The smallest heading\n",
    "\n",
    "### 2.4 Displaying Code"
   ]
  },
  {
   "cell_type": "markdown",
   "id": "7d99efbf",
   "metadata": {},
   "source": [
    "```python\n",
    "print('Look this code can\\'t run, also I learnt this from Discord lol')\n",
    "```"
   ]
  },
  {
   "cell_type": "markdown",
   "id": "9aec22a8",
   "metadata": {},
   "source": [
    "### 2.5 Links"
   ]
  },
  {
   "cell_type": "markdown",
   "id": "49c12934",
   "metadata": {},
   "source": [
    "[Why you should join SPS](https://www.youtube.com/watch?v=wBmK1iHRQeA)"
   ]
  },
  {
   "cell_type": "markdown",
   "id": "9032d9bc",
   "metadata": {},
   "source": [
    "### 2.6 Images"
   ]
  },
  {
   "cell_type": "markdown",
   "id": "246a1093",
   "metadata": {},
   "source": [
    "![](https://nus.edu.sg/alset/wp-content/uploads/2019/06/chong-yuan-alset.jpg)\n",
    "\n",
    "### we stan a legend"
   ]
  },
  {
   "cell_type": "markdown",
   "id": "8d2bc858",
   "metadata": {},
   "source": [
    "### 2.7 Tables"
   ]
  },
  {
   "cell_type": "markdown",
   "id": "ef62ba78",
   "metadata": {},
   "source": [
    "| A    |  B   |    C |\n",
    "| :---------------------- | :------------: | -----------------: |\n",
    "| a1111111111   |  b1  |   c1 |\n",
    "| a2   |  b22222222222222  |   c2 |\n",
    "| a3   |  b3  |   c333333333 |"
   ]
  },
  {
   "cell_type": "markdown",
   "id": "ba56ed3d",
   "metadata": {},
   "source": [
    "### 2.8 Lists"
   ]
  },
  {
   "cell_type": "markdown",
   "id": "86c4dddf",
   "metadata": {},
   "source": [
    "1. CS1010S\n",
    "1. MA2002\n",
    "    1. L1\n",
    "    1. T3\n",
    "        1. idk what to put here\n",
    "            1. x\n",
    "                1. x\n",
    "                    1. x\n",
    "                        1. x\n",
    "                            1. x\n",
    "1. DTK1234\n",
    "- HS1401S"
   ]
  },
  {
   "cell_type": "markdown",
   "id": "5971146a",
   "metadata": {},
   "source": [
    "### 2.9 Equations"
   ]
  },
  {
   "cell_type": "markdown",
   "id": "bee0e220",
   "metadata": {},
   "source": [
    "$$\\sum_{n=1}^{n=\\infty} x_n$$"
   ]
  },
  {
   "cell_type": "markdown",
   "id": "f7a7876a",
   "metadata": {},
   "source": [
    "## Exercise 1 :  Put it in Markdown"
   ]
  },
  {
   "cell_type": "markdown",
   "id": "bb8817bd",
   "metadata": {},
   "source": [
    "**Quadratic Equations**\n",
    "\n",
    "![](https://upload.wikimedia.org/wikipedia/commons/f/f8/Polynomialdeg2.svg)\n",
    "\n",
    "*(Image from the [Wikipedia page on Quadratic equations](https://en.wikipedia.org/wiki/Quadratic_equation))*\n",
    "\n",
    "**Introduction**\n",
    "\n",
    "The general form of a quadratic equation is:\n",
    "\n",
    "$$ax^2+bx+c=0$$\n",
    "\n",
    "**Solutions** Provided $a\\ne0$, we can use an elementary algebraic method called [completing the square](https://en.wikipedia.org/wiki/Completing_the_square) to show that a quadratic equation has the following solution:\n",
    "$$x=\\dfrac{−b±\\sqrt{b^2−4ac}}{2a}$$\n",
    "\n",
    "**Discriminant**\n",
    "\n",
    "The quantity $\\Delta=b^2−4ac$ is called the **discriminant** of the equation and decides the nature of its solutions. The table below shows the various possibilities.\n",
    "\n",
    "\n",
    "|**Discriminant**|**Roots**|\n",
    "|:-------------:|--------:|\n",
    "| $$\\Delta=b^2−4ac=0$$ |  A single solution of $\\dfrac{-b}{(2a)}$ |\n",
    "| $\\Delta=b^2−4ac>0$   |  Two distinct solutions  |\n",
    "| $\\Delta=b^2−4ac<0$   |  No real solutions; both are complex.  |\n"
   ]
  },
  {
   "cell_type": "markdown",
   "id": "92bccdf7",
   "metadata": {},
   "source": [
    "## Exercise 2 :  In your own words"
   ]
  },
  {
   "cell_type": "markdown",
   "id": "9f8b567e",
   "metadata": {},
   "source": [
    "What is a repository?\n",
    "1. A repository (repo) is a cluster of folders and/or files that can be pushed together as a commit. Edits made to any files in the repo are collectively tracked.\n",
    "\n",
    "2. Git keep tracks of changes in the files in our repository.\n",
    "\n",
    "What is a commit?\n",
    "\n",
    "3. A commit is a LOCAL repo save of your notebook changes. It does not affect the remote repo.\n",
    "\n",
    "What is a push?\n",
    "\n",
    "4. A push uploads the commit to the remote repo, allowing the notebook to be accessed from elsewhere.\n",
    "\n",
    "What is the difference between GitHub and GitHub Desktop?\n",
    "\n",
    "5. GitHub is a distribution of the Git system to share repos of code and what not. GitHub Desktop is a local Git mamanger which facilitates the commits and pushes to GitHub.\n",
    "\n",
    "Is there an ‘opposite’ to a push?\n",
    "\n",
    "6. A 'fetch' simply downloads a copy of the repo to the user's machine. A 'pull' additionally 'merges' the local repo with the downloaded one. However one can also 'fork' the repo to make changes without editing the original.\n",
    "\n"
   ]
  },
  {
   "cell_type": "code",
   "execution_count": null,
   "id": "b1913947",
   "metadata": {},
   "outputs": [],
   "source": []
  }
 ],
 "metadata": {
  "kernelspec": {
   "display_name": "Python 3 (ipykernel)",
   "language": "python",
   "name": "python3"
  },
  "language_info": {
   "codemirror_mode": {
    "name": "ipython",
    "version": 3
   },
   "file_extension": ".py",
   "mimetype": "text/x-python",
   "name": "python",
   "nbconvert_exporter": "python",
   "pygments_lexer": "ipython3",
   "version": "3.9.5"
  },
  "toc": {
   "base_numbering": 1,
   "nav_menu": {},
   "number_sections": true,
   "sideBar": true,
   "skip_h1_title": false,
   "title_cell": "Table of Contents",
   "title_sidebar": "Contents",
   "toc_cell": false,
   "toc_position": {},
   "toc_section_display": true,
   "toc_window_display": false
  },
  "varInspector": {
   "cols": {
    "lenName": 16,
    "lenType": 16,
    "lenVar": 40
   },
   "kernels_config": {
    "python": {
     "delete_cmd_postfix": "",
     "delete_cmd_prefix": "del ",
     "library": "var_list.py",
     "varRefreshCmd": "print(var_dic_list())"
    },
    "r": {
     "delete_cmd_postfix": ") ",
     "delete_cmd_prefix": "rm(",
     "library": "var_list.r",
     "varRefreshCmd": "cat(var_dic_list()) "
    }
   },
   "types_to_exclude": [
    "module",
    "function",
    "builtin_function_or_method",
    "instance",
    "_Feature"
   ],
   "window_display": false
  },
  "vscode": {
   "interpreter": {
    "hash": "31f2aee4e71d21fbe5cf8b01ff0e069b9275f58929596ceb00d14d90e3e16cd6"
   }
  }
 },
 "nbformat": 4,
 "nbformat_minor": 5
}
